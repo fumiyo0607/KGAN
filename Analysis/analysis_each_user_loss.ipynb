{
 "cells": [
  {
   "cell_type": "code",
   "execution_count": 1,
   "metadata": {},
   "outputs": [],
   "source": [
    "import pandas as pd\n",
    "from collections import defaultdict\n",
    "from tqdm import tqdm\n",
    "import os\n",
    "import numpy as np\n",
    "import pickle\n",
    "import matplotlib.pyplot as plt"
   ]
  },
  {
   "cell_type": "markdown",
   "metadata": {},
   "source": [
    "### 各ユーザのAccuracyのデータのロード"
   ]
  },
  {
   "cell_type": "code",
   "execution_count": 2,
   "metadata": {},
   "outputs": [],
   "source": [
    "saved_path = './each_user_result./'\n",
    "# file_name = 'last-fm_each_user_ret_epoch=0.pickle'\n",
    "file_name = 'each_user_ret_epoch=19.pickle'"
   ]
  },
  {
   "cell_type": "code",
   "execution_count": 3,
   "metadata": {},
   "outputs": [],
   "source": [
    "with open(saved_path + file_name, 'rb') as f:\n",
    "  each_user_ret = pickle.load(f)"
   ]
  },
  {
   "cell_type": "code",
   "execution_count": 4,
   "metadata": {},
   "outputs": [],
   "source": [
    "each_user_ndcg = defaultdict(float)"
   ]
  },
  {
   "cell_type": "code",
   "execution_count": 5,
   "metadata": {},
   "outputs": [
    {
     "data": {
      "text/plain": [
       "{'user_id': 0,\n",
       " 'recall': array([0.08510638, 0.12765957, 0.12765957, 0.14893617, 0.17021277]),\n",
       " 'precision': array([0.2   , 0.15  , 0.1   , 0.0875, 0.08  ]),\n",
       " 'ndcg': array([0.30618864, 0.41385325, 0.41385325, 0.45512116, 0.49408425]),\n",
       " 'hit_ratio': array([1., 1., 1., 1., 1.]),\n",
       " 'auc': 0.0,\n",
       " 'top_N_items': [(1085, 12.173683),\n",
       "  (10778, 11.681754),\n",
       "  (23493, 11.466055),\n",
       "  (8523, 11.296857),\n",
       "  (11184, 11.179999),\n",
       "  (11211, 11.060519),\n",
       "  (2237, 11.028409),\n",
       "  (19439, 10.986417),\n",
       "  (9491, 10.648063),\n",
       "  (10936, 10.647737),\n",
       "  (14037, 10.647504),\n",
       "  (10874, 10.485147),\n",
       "  (9454, 10.439081),\n",
       "  (9492, 10.429654),\n",
       "  (8524, 10.411466),\n",
       "  (23496, 10.3966),\n",
       "  (8422, 10.33805),\n",
       "  (7140, 10.331901),\n",
       "  (9493, 10.330873),\n",
       "  (7536, 10.172565),\n",
       "  (2719, 10.006644),\n",
       "  (9871, 9.955256),\n",
       "  (10799, 9.801346),\n",
       "  (9726, 9.771114),\n",
       "  (2718, 9.73137),\n",
       "  (7537, 9.72799),\n",
       "  (2717, 9.723579),\n",
       "  (23564, 9.722545),\n",
       "  (13996, 9.712077),\n",
       "  (8348, 9.70301),\n",
       "  (2801, 9.643488),\n",
       "  (23466, 9.505796),\n",
       "  (2657, 9.474501),\n",
       "  (6105, 9.37311),\n",
       "  (8353, 9.3293705),\n",
       "  (7931, 9.2671175),\n",
       "  (12539, 9.260599),\n",
       "  (23587, 9.24691),\n",
       "  (2714, 9.192722),\n",
       "  (14038, 9.1407),\n",
       "  (2720, 9.1273985),\n",
       "  (4523, 9.087328),\n",
       "  (27574, 9.06466),\n",
       "  (13162, 9.010456),\n",
       "  (7191, 8.991204),\n",
       "  (7344, 8.980796),\n",
       "  (8347, 8.971851),\n",
       "  (2814, 8.971309),\n",
       "  (12605, 8.88002),\n",
       "  (6900, 8.876962),\n",
       "  (7345, 8.851963),\n",
       "  (8345, 8.834418),\n",
       "  (7351, 8.831641),\n",
       "  (24803, 8.803093),\n",
       "  (7357, 8.796472),\n",
       "  (6898, 8.785023),\n",
       "  (6879, 8.757697),\n",
       "  (24218, 8.751643),\n",
       "  (1731, 8.722035),\n",
       "  (2715, 8.692156),\n",
       "  (4525, 8.642456),\n",
       "  (8335, 8.642414),\n",
       "  (8333, 8.637946),\n",
       "  (30810, 8.629134),\n",
       "  (7354, 8.609978),\n",
       "  (18445, 8.595686),\n",
       "  (7170, 8.563149),\n",
       "  (17727, 8.553166),\n",
       "  (15300, 8.53317),\n",
       "  (7341, 8.525404),\n",
       "  (8254, 8.513765),\n",
       "  (24805, 8.487932),\n",
       "  (7166, 8.481636),\n",
       "  (6899, 8.480959),\n",
       "  (4524, 8.480454),\n",
       "  (24810, 8.477313),\n",
       "  (7168, 8.4629545),\n",
       "  (8336, 8.419797),\n",
       "  (13313, 8.41177),\n",
       "  (8290, 8.408035),\n",
       "  (4796, 8.399474),\n",
       "  (7169, 8.392213),\n",
       "  (2055, 8.387414),\n",
       "  (2802, 8.382989),\n",
       "  (7165, 8.377257),\n",
       "  (4429, 8.368228),\n",
       "  (10856, 8.36543),\n",
       "  (29513, 8.358876),\n",
       "  (9725, 8.317336),\n",
       "  (6897, 8.3109255),\n",
       "  (18583, 8.299593),\n",
       "  (9418, 8.2915535),\n",
       "  (7172, 8.257821),\n",
       "  (24801, 8.251023),\n",
       "  (20751, 8.241675),\n",
       "  (24807, 8.235697),\n",
       "  (17827, 8.226583),\n",
       "  (17903, 8.209077),\n",
       "  (11004, 8.207709),\n",
       "  (2145, 8.199436)]}"
      ]
     },
     "execution_count": 5,
     "metadata": {},
     "output_type": "execute_result"
    }
   ],
   "source": [
    "each_user_ret[0]"
   ]
  },
  {
   "cell_type": "code",
   "execution_count": 6,
   "metadata": {},
   "outputs": [],
   "source": [
    "each_user_recall = defaultdict(float)\n",
    "for u, ret in each_user_ret.items(): \n",
    "    recall = ret['recall'][0] \n",
    "    each_user_recall[u] = recall"
   ]
  },
  {
   "cell_type": "code",
   "execution_count": 7,
   "metadata": {
    "scrolled": true
   },
   "outputs": [
    {
     "data": {
      "text/plain": [
       "0.26666666666666666"
      ]
     },
     "execution_count": 7,
     "metadata": {},
     "output_type": "execute_result"
    }
   ],
   "source": [
    "each_user_recall[610]"
   ]
  },
  {
   "cell_type": "code",
   "execution_count": 8,
   "metadata": {},
   "outputs": [
    {
     "data": {
      "text/plain": [
       "0"
      ]
     },
     "execution_count": 8,
     "metadata": {},
     "output_type": "execute_result"
    }
   ],
   "source": [
    "len(each_user_ndcg)"
   ]
  },
  {
   "cell_type": "code",
   "execution_count": 9,
   "metadata": {},
   "outputs": [],
   "source": [
    "for u, ret in each_user_ret.items(): \n",
    "    ndcg = ret['ndcg'][0] \n",
    "    each_user_ndcg[u] = ndcg"
   ]
  },
  {
   "cell_type": "markdown",
   "metadata": {},
   "source": [
    "### 全ユーザのNDCG＠20のヒストグラムを作成"
   ]
  },
  {
   "cell_type": "code",
   "execution_count": 10,
   "metadata": {},
   "outputs": [
    {
     "name": "stdout",
     "output_type": "stream",
     "text": [
      "0.13392665292409214\n"
     ]
    }
   ],
   "source": [
    "all_user_ndcg = list(each_user_ndcg.values())\n",
    "all_user_ndcg = np.array(all_user_ndcg)\n",
    "print(all_user_ndcg.mean())"
   ]
  },
  {
   "cell_type": "code",
   "execution_count": 11,
   "metadata": {},
   "outputs": [
    {
     "name": "stdout",
     "output_type": "stream",
     "text": [
      "NDCG@20 が0のユーザの割合 : 0.6433845370448952\n"
     ]
    }
   ],
   "source": [
    "error = np.count_nonzero(all_user_ndcg == 0.0)\n",
    "error_ratio = error / len(each_user_ndcg)\n",
    "print('NDCG@20 が0のユーザの割合 : {}'.format(error_ratio))"
   ]
  },
  {
   "cell_type": "code",
   "execution_count": 12,
   "metadata": {},
   "outputs": [
    {
     "name": "stderr",
     "output_type": "stream",
     "text": [
      "C:\\ProgramData\\Anaconda3\\lib\\site-packages\\matplotlib\\figure.py:457: UserWarning: matplotlib is currently using a non-GUI backend, so cannot show the figure\n",
      "  \"matplotlib is currently using a non-GUI backend, \"\n"
     ]
    },
    {
     "data": {
      "image/png": "[encoded data removed]",
      "text/plain": [
       "<Figure size 432x288 with 1 Axes>"
      ]
     },
     "metadata": {
      "needs_background": "light"
     },
     "output_type": "display_data"
    }
   ],
   "source": [
    "fig = plt.figure()\n",
    "ax = fig.add_subplot(1,1,1)\n",
    "\n",
    "ax.hist(all_user_ndcg, bins=50)\n",
    "ax.set_title('average NDCG@20 = {} '.format(all_user_ndcg.mean()))\n",
    "ax.set_xlabel('NGCD@20')\n",
    "ax.set_ylabel('freq')\n",
    "fig.show()"
   ]
  },
  {
   "cell_type": "markdown",
   "metadata": {},
   "source": [
    "### 予測がうまくいっているユーザとそうでないユーザを抽出"
   ]
  },
  {
   "cell_type": "code",
   "execution_count": 14,
   "metadata": {},
   "outputs": [],
   "source": [
    "sorted_each_user_ndcg = sorted(each_user_ndcg.items(), key=lambda x:x[1], reverse=True)"
   ]
  },
  {
   "cell_type": "code",
   "execution_count": 20,
   "metadata": {},
   "outputs": [],
   "source": [
    "# うまくいっているユーザ\n",
    "top_ndcg_user = sorted_each_user_ndcg[:100]\n",
    "top_ndcg_user = dict(top_ndcg_user)\n",
    "top_ndcg_user_ids= top_ndcg_user.keys()\n",
    "top_ndcg_user_score = top_ndcg_user.values()"
   ]
  },
  {
   "cell_type": "code",
   "execution_count": 21,
   "metadata": {},
   "outputs": [],
   "source": [
    "# うまくいっていないユーザ\n",
    "worst_ndcg_user = sorted_each_user_ndcg[-100:]\n",
    "worst_ndcg_user = dict(worst_ndcg_user)\n",
    "worst_ndcg_user_ids = worst_ndcg_user.keys()"
   ]
  },
  {
   "cell_type": "code",
   "execution_count": 23,
   "metadata": {},
   "outputs": [],
   "source": [
    "top_ndcg_user_ids = list(top_ndcg_user_ids)\n",
    "worst_ndcg_user_ids = list(worst_ndcg_user_ids)"
   ]
  },
  {
   "cell_type": "code",
   "execution_count": 24,
   "metadata": {},
   "outputs": [],
   "source": [
    "save_path = './users/'\n",
    "file_name = 'worst_100_users.pickle'\n",
    "\n",
    "\n",
    "if not os.path.exists(save_path):\n",
    "    os.makedirs(save_path)\n",
    "\n",
    "with open(save_path + file_name, mode='wb') as f:\n",
    "    pickle.dump(worst_ndcg_user_ids, f)"
   ]
  },
  {
   "cell_type": "markdown",
   "metadata": {},
   "source": [
    "### 予測がうまくいった人に推薦されたアイテムを抽出"
   ]
  },
  {
   "cell_type": "code",
   "execution_count": 56,
   "metadata": {},
   "outputs": [],
   "source": [
    "user_list = []\n",
    "item_list = []\n",
    "score_list = []\n",
    "\n",
    "for u in top_ndcg_user_ids:\n",
    "    ret = each_user_ret[u]\n",
    "    data = dict(ret['top_N_items'])\n",
    "    items = data.keys()\n",
    "    scores = data.values()\n",
    "    \n",
    "    for item, score in zip(items, scores):\n",
    "        user_list.append(u)\n",
    "        item_list.append(item)\n",
    "        score_list.append(score)"
   ]
  },
  {
   "cell_type": "code",
   "execution_count": 57,
   "metadata": {},
   "outputs": [
    {
     "data": {
      "text/html": [
       "<div>\n",
       "<style scoped>\n",
       "    .dataframe tbody tr th:only-of-type {\n",
       "        vertical-align: middle;\n",
       "    }\n",
       "\n",
       "    .dataframe tbody tr th {\n",
       "        vertical-align: top;\n",
       "    }\n",
       "\n",
       "    .dataframe thead th {\n",
       "        text-align: right;\n",
       "    }\n",
       "</style>\n",
       "<table border=\"1\" class=\"dataframe\">\n",
       "  <thead>\n",
       "    <tr style=\"text-align: right;\">\n",
       "      <th></th>\n",
       "      <th>user_id</th>\n",
       "      <th>item_id</th>\n",
       "      <th>score</th>\n",
       "    </tr>\n",
       "  </thead>\n",
       "  <tbody>\n",
       "    <tr>\n",
       "      <th>0</th>\n",
       "      <td>119</td>\n",
       "      <td>5704</td>\n",
       "      <td>11.234782</td>\n",
       "    </tr>\n",
       "    <tr>\n",
       "      <th>1</th>\n",
       "      <td>119</td>\n",
       "      <td>5735</td>\n",
       "      <td>11.090653</td>\n",
       "    </tr>\n",
       "    <tr>\n",
       "      <th>2</th>\n",
       "      <td>119</td>\n",
       "      <td>10614</td>\n",
       "      <td>10.634906</td>\n",
       "    </tr>\n",
       "    <tr>\n",
       "      <th>3</th>\n",
       "      <td>119</td>\n",
       "      <td>10448</td>\n",
       "      <td>10.537714</td>\n",
       "    </tr>\n",
       "    <tr>\n",
       "      <th>4</th>\n",
       "      <td>119</td>\n",
       "      <td>1844</td>\n",
       "      <td>10.335157</td>\n",
       "    </tr>\n",
       "  </tbody>\n",
       "</table>\n",
       "</div>"
      ],
      "text/plain": [
       "   user_id  item_id      score\n",
       "0      119     5704  11.234782\n",
       "1      119     5735  11.090653\n",
       "2      119    10614  10.634906\n",
       "3      119    10448  10.537714\n",
       "4      119     1844  10.335157"
      ]
     },
     "execution_count": 57,
     "metadata": {},
     "output_type": "execute_result"
    }
   ],
   "source": [
    "top_user_df = pd.DataFrame(\n",
    "    data = {\n",
    "        'user_id' : user_list,\n",
    "        'item_id' : item_list,\n",
    "        'score' : score_list\n",
    "    },\n",
    "    columns=['user_id', 'item_id','score']\n",
    ")\n",
    "\n",
    "top_user_df.head()"
   ]
  },
  {
   "cell_type": "markdown",
   "metadata": {},
   "source": [
    "### 予測がうまくいかなった人に推薦されたアイテムを抽出"
   ]
  },
  {
   "cell_type": "code",
   "execution_count": 58,
   "metadata": {},
   "outputs": [],
   "source": [
    "user_list = []\n",
    "item_list = []\n",
    "score_list = []\n",
    "\n",
    "for u in worst_ndcg_user_ids:\n",
    "    ret = each_user_ret[u]\n",
    "    data = dict(ret['top_N_items'])\n",
    "    items = data.keys()\n",
    "    scores = data.values()\n",
    "    \n",
    "    for item, score in zip(items, scores):\n",
    "        user_list.append(u)\n",
    "        item_list.append(item)\n",
    "        score_list.append(score)"
   ]
  },
  {
   "cell_type": "code",
   "execution_count": 59,
   "metadata": {},
   "outputs": [
    {
     "data": {
      "text/html": [
       "<div>\n",
       "<style scoped>\n",
       "    .dataframe tbody tr th:only-of-type {\n",
       "        vertical-align: middle;\n",
       "    }\n",
       "\n",
       "    .dataframe tbody tr th {\n",
       "        vertical-align: top;\n",
       "    }\n",
       "\n",
       "    .dataframe thead th {\n",
       "        text-align: right;\n",
       "    }\n",
       "</style>\n",
       "<table border=\"1\" class=\"dataframe\">\n",
       "  <thead>\n",
       "    <tr style=\"text-align: right;\">\n",
       "      <th></th>\n",
       "      <th>user_id</th>\n",
       "      <th>item_id</th>\n",
       "      <th>score</th>\n",
       "    </tr>\n",
       "  </thead>\n",
       "  <tbody>\n",
       "    <tr>\n",
       "      <th>0</th>\n",
       "      <td>23552</td>\n",
       "      <td>1540</td>\n",
       "      <td>11.776107</td>\n",
       "    </tr>\n",
       "    <tr>\n",
       "      <th>1</th>\n",
       "      <td>23552</td>\n",
       "      <td>5710</td>\n",
       "      <td>10.626558</td>\n",
       "    </tr>\n",
       "    <tr>\n",
       "      <th>2</th>\n",
       "      <td>23552</td>\n",
       "      <td>4501</td>\n",
       "      <td>10.554112</td>\n",
       "    </tr>\n",
       "    <tr>\n",
       "      <th>3</th>\n",
       "      <td>23552</td>\n",
       "      <td>1054</td>\n",
       "      <td>10.332048</td>\n",
       "    </tr>\n",
       "    <tr>\n",
       "      <th>4</th>\n",
       "      <td>23552</td>\n",
       "      <td>26628</td>\n",
       "      <td>10.311855</td>\n",
       "    </tr>\n",
       "  </tbody>\n",
       "</table>\n",
       "</div>"
      ],
      "text/plain": [
       "   user_id  item_id      score\n",
       "0    23552     1540  11.776107\n",
       "1    23552     5710  10.626558\n",
       "2    23552     4501  10.554112\n",
       "3    23552     1054  10.332048\n",
       "4    23552    26628  10.311855"
      ]
     },
     "execution_count": 59,
     "metadata": {},
     "output_type": "execute_result"
    }
   ],
   "source": [
    "worst_user_df = pd.DataFrame(\n",
    "    data = {\n",
    "        'user_id' : user_list,\n",
    "        'item_id' : item_list,\n",
    "        'score' : score_list\n",
    "    },\n",
    "    columns=['user_id', 'item_id','score']\n",
    ")\n",
    "\n",
    "worst_user_df.head()"
   ]
  },
  {
   "cell_type": "markdown",
   "metadata": {},
   "source": [
    "### アイテムのメタ情報をマージ"
   ]
  },
  {
   "cell_type": "code",
   "execution_count": 60,
   "metadata": {},
   "outputs": [
    {
     "data": {
      "text/html": [
       "<div>\n",
       "<style scoped>\n",
       "    .dataframe tbody tr th:only-of-type {\n",
       "        vertical-align: middle;\n",
       "    }\n",
       "\n",
       "    .dataframe tbody tr th {\n",
       "        vertical-align: top;\n",
       "    }\n",
       "\n",
       "    .dataframe thead th {\n",
       "        text-align: right;\n",
       "    }\n",
       "</style>\n",
       "<table border=\"1\" class=\"dataframe\">\n",
       "  <thead>\n",
       "    <tr style=\"text-align: right;\">\n",
       "      <th></th>\n",
       "      <th>item_id</th>\n",
       "      <th>track_name</th>\n",
       "      <th>artist_name</th>\n",
       "    </tr>\n",
       "  </thead>\n",
       "  <tbody>\n",
       "    <tr>\n",
       "      <th>0</th>\n",
       "      <td>72</td>\n",
       "      <td>Needles and Pins</td>\n",
       "      <td>Deftones</td>\n",
       "    </tr>\n",
       "    <tr>\n",
       "      <th>1</th>\n",
       "      <td>73</td>\n",
       "      <td>Minerva</td>\n",
       "      <td>Deftones</td>\n",
       "    </tr>\n",
       "    <tr>\n",
       "      <th>2</th>\n",
       "      <td>74</td>\n",
       "      <td>Good Morning Beautiful</td>\n",
       "      <td>Deftones</td>\n",
       "    </tr>\n",
       "    <tr>\n",
       "      <th>3</th>\n",
       "      <td>75</td>\n",
       "      <td>Deathblow</td>\n",
       "      <td>Deftones</td>\n",
       "    </tr>\n",
       "    <tr>\n",
       "      <th>4</th>\n",
       "      <td>76</td>\n",
       "      <td>When Girls Telephone Boys</td>\n",
       "      <td>Deftones</td>\n",
       "    </tr>\n",
       "  </tbody>\n",
       "</table>\n",
       "</div>"
      ],
      "text/plain": [
       "   item_id                 track_name artist_name\n",
       "0       72           Needles and Pins    Deftones\n",
       "1       73                    Minerva    Deftones\n",
       "2       74     Good Morning Beautiful    Deftones\n",
       "3       75                  Deathblow    Deftones\n",
       "4       76  When Girls Telephone Boys    Deftones"
      ]
     },
     "execution_count": 60,
     "metadata": {},
     "output_type": "execute_result"
    }
   ],
   "source": [
    "item_meta_data_df = pd.read_csv('item_meta_data.csv')\n",
    "item_meta_data_df = item_meta_data_df.drop('Unnamed: 0', axis=1)\n",
    "item_meta_data_df = item_meta_data_df.reset_index(drop=True)\n",
    "item_meta_data_df.head()"
   ]
  },
  {
   "cell_type": "code",
   "execution_count": 61,
   "metadata": {},
   "outputs": [],
   "source": [
    " top_user_df = pd.merge(\n",
    "     top_user_df, item_meta_data_df,\n",
    "     on = 'item_id',\n",
    "     how = 'left'\n",
    " )\n",
    "top_user_df = top_user_df.drop_duplicates(subset='item_id')"
   ]
  },
  {
   "cell_type": "code",
   "execution_count": 62,
   "metadata": {},
   "outputs": [
    {
     "data": {
      "text/html": [
       "<div>\n",
       "<style scoped>\n",
       "    .dataframe tbody tr th:only-of-type {\n",
       "        vertical-align: middle;\n",
       "    }\n",
       "\n",
       "    .dataframe tbody tr th {\n",
       "        vertical-align: top;\n",
       "    }\n",
       "\n",
       "    .dataframe thead th {\n",
       "        text-align: right;\n",
       "    }\n",
       "</style>\n",
       "<table border=\"1\" class=\"dataframe\">\n",
       "  <thead>\n",
       "    <tr style=\"text-align: right;\">\n",
       "      <th></th>\n",
       "      <th>user_id</th>\n",
       "      <th>item_id</th>\n",
       "      <th>score</th>\n",
       "      <th>track_name</th>\n",
       "      <th>artist_name</th>\n",
       "    </tr>\n",
       "  </thead>\n",
       "  <tbody>\n",
       "    <tr>\n",
       "      <th>0</th>\n",
       "      <td>119</td>\n",
       "      <td>5704</td>\n",
       "      <td>11.234782</td>\n",
       "      <td>Lemonworld</td>\n",
       "      <td>The National</td>\n",
       "    </tr>\n",
       "    <tr>\n",
       "      <th>1</th>\n",
       "      <td>119</td>\n",
       "      <td>5735</td>\n",
       "      <td>11.090653</td>\n",
       "      <td>Vanderlyle Crybaby Geeks</td>\n",
       "      <td>The National</td>\n",
       "    </tr>\n",
       "    <tr>\n",
       "      <th>2</th>\n",
       "      <td>119</td>\n",
       "      <td>10614</td>\n",
       "      <td>10.634906</td>\n",
       "      <td>Two-Headed Boy</td>\n",
       "      <td>Neutral Milk Hotel</td>\n",
       "    </tr>\n",
       "    <tr>\n",
       "      <th>3</th>\n",
       "      <td>119</td>\n",
       "      <td>10448</td>\n",
       "      <td>10.537714</td>\n",
       "      <td>Obstacle 2</td>\n",
       "      <td>Interpol</td>\n",
       "    </tr>\n",
       "    <tr>\n",
       "      <th>4</th>\n",
       "      <td>119</td>\n",
       "      <td>1844</td>\n",
       "      <td>10.335157</td>\n",
       "      <td>New Slang</td>\n",
       "      <td>The Shins</td>\n",
       "    </tr>\n",
       "  </tbody>\n",
       "</table>\n",
       "</div>"
      ],
      "text/plain": [
       "   user_id  item_id      score                track_name         artist_name\n",
       "0      119     5704  11.234782                Lemonworld        The National\n",
       "1      119     5735  11.090653  Vanderlyle Crybaby Geeks        The National\n",
       "2      119    10614  10.634906            Two-Headed Boy  Neutral Milk Hotel\n",
       "3      119    10448  10.537714                Obstacle 2            Interpol\n",
       "4      119     1844  10.335157                 New Slang           The Shins"
      ]
     },
     "execution_count": 62,
     "metadata": {},
     "output_type": "execute_result"
    }
   ],
   "source": [
    "top_user_df = top_user_df.reset_index(drop=True)\n",
    "top_user_df.head()"
   ]
  },
  {
   "cell_type": "code",
   "execution_count": 63,
   "metadata": {},
   "outputs": [],
   "source": [
    " worst_user_df = pd.merge(\n",
    "     worst_user_df, item_meta_data_df,\n",
    "     on = 'item_id',\n",
    "     how = 'left'\n",
    " )\n",
    "worst_user_df = worst_user_df.drop_duplicates(subset='item_id')"
   ]
  },
  {
   "cell_type": "code",
   "execution_count": 64,
   "metadata": {},
   "outputs": [
    {
     "data": {
      "text/html": [
       "<div>\n",
       "<style scoped>\n",
       "    .dataframe tbody tr th:only-of-type {\n",
       "        vertical-align: middle;\n",
       "    }\n",
       "\n",
       "    .dataframe tbody tr th {\n",
       "        vertical-align: top;\n",
       "    }\n",
       "\n",
       "    .dataframe thead th {\n",
       "        text-align: right;\n",
       "    }\n",
       "</style>\n",
       "<table border=\"1\" class=\"dataframe\">\n",
       "  <thead>\n",
       "    <tr style=\"text-align: right;\">\n",
       "      <th></th>\n",
       "      <th>user_id</th>\n",
       "      <th>item_id</th>\n",
       "      <th>score</th>\n",
       "      <th>track_name</th>\n",
       "      <th>artist_name</th>\n",
       "    </tr>\n",
       "  </thead>\n",
       "  <tbody>\n",
       "    <tr>\n",
       "      <th>0</th>\n",
       "      <td>23552</td>\n",
       "      <td>1540</td>\n",
       "      <td>11.776107</td>\n",
       "      <td>Tessellate</td>\n",
       "      <td>Alt-J</td>\n",
       "    </tr>\n",
       "    <tr>\n",
       "      <th>1</th>\n",
       "      <td>23552</td>\n",
       "      <td>5710</td>\n",
       "      <td>10.626558</td>\n",
       "      <td>Dissolve Me</td>\n",
       "      <td>Alt-J</td>\n",
       "    </tr>\n",
       "    <tr>\n",
       "      <th>2</th>\n",
       "      <td>23552</td>\n",
       "      <td>4501</td>\n",
       "      <td>10.554112</td>\n",
       "      <td>Crosses</td>\n",
       "      <td>José González</td>\n",
       "    </tr>\n",
       "    <tr>\n",
       "      <th>3</th>\n",
       "      <td>23552</td>\n",
       "      <td>1054</td>\n",
       "      <td>10.332048</td>\n",
       "      <td>Teardrop</td>\n",
       "      <td>Massive Attack</td>\n",
       "    </tr>\n",
       "    <tr>\n",
       "      <th>4</th>\n",
       "      <td>23552</td>\n",
       "      <td>26628</td>\n",
       "      <td>10.311855</td>\n",
       "      <td>54-46 Was My Number</td>\n",
       "      <td>Toots and The Maytals</td>\n",
       "    </tr>\n",
       "  </tbody>\n",
       "</table>\n",
       "</div>"
      ],
      "text/plain": [
       "   user_id  item_id      score           track_name            artist_name\n",
       "0    23552     1540  11.776107           Tessellate                  Alt-J\n",
       "1    23552     5710  10.626558          Dissolve Me                  Alt-J\n",
       "2    23552     4501  10.554112              Crosses          José González\n",
       "3    23552     1054  10.332048             Teardrop         Massive Attack\n",
       "4    23552    26628  10.311855  54-46 Was My Number  Toots and The Maytals"
      ]
     },
     "execution_count": 64,
     "metadata": {},
     "output_type": "execute_result"
    }
   ],
   "source": [
    "worst_user_df = worst_user_df.reset_index(drop=True)\n",
    "worst_user_df.head()"
   ]
  },
  {
   "cell_type": "markdown",
   "metadata": {},
   "source": [
    "### 推薦されたアイテムを保存"
   ]
  },
  {
   "cell_type": "code",
   "execution_count": 65,
   "metadata": {},
   "outputs": [],
   "source": [
    "top_user_df.to_csv(saved_path + 'top_ndcg_user_rec.csv', encoding='utf_8_sig')\n",
    "worst_user_df.to_csv(saved_path + 'worst_ndcg_user_rec.csv', encoding='utf_8_sig')"
   ]
  },
  {
   "cell_type": "markdown",
   "metadata": {},
   "source": [
    "### モデルの学習に使用されたアイテムのデータを出力"
   ]
  },
  {
   "cell_type": "code",
   "execution_count": 37,
   "metadata": {},
   "outputs": [],
   "source": [
    "# 学習用データ\n",
    "# interaction_file_path = './master_table/train_interaction_data.csv'"
   ]
  },
  {
   "cell_type": "code",
   "execution_count": 46,
   "metadata": {},
   "outputs": [],
   "source": [
    "# #テスト用データ\n",
    "interaction_file_path = './master_table/test_interaction_data.csv'"
   ]
  },
  {
   "cell_type": "code",
   "execution_count": 47,
   "metadata": {},
   "outputs": [
    {
     "data": {
      "text/html": [
       "<div>\n",
       "<style scoped>\n",
       "    .dataframe tbody tr th:only-of-type {\n",
       "        vertical-align: middle;\n",
       "    }\n",
       "\n",
       "    .dataframe tbody tr th {\n",
       "        vertical-align: top;\n",
       "    }\n",
       "\n",
       "    .dataframe thead th {\n",
       "        text-align: right;\n",
       "    }\n",
       "</style>\n",
       "<table border=\"1\" class=\"dataframe\">\n",
       "  <thead>\n",
       "    <tr style=\"text-align: right;\">\n",
       "      <th></th>\n",
       "      <th>user_id</th>\n",
       "      <th>item_id</th>\n",
       "      <th>org_id</th>\n",
       "      <th>freebase_id</th>\n",
       "      <th>track_name</th>\n",
       "      <th>artist_id</th>\n",
       "      <th>artist_name</th>\n",
       "    </tr>\n",
       "  </thead>\n",
       "  <tbody>\n",
       "    <tr>\n",
       "      <th>0</th>\n",
       "      <td>0</td>\n",
       "      <td>72</td>\n",
       "      <td>16782</td>\n",
       "      <td>m.0qh8tx</td>\n",
       "      <td>Needles and Pins</td>\n",
       "      <td>362.0</td>\n",
       "      <td>Deftones</td>\n",
       "    </tr>\n",
       "    <tr>\n",
       "      <th>1</th>\n",
       "      <td>0</td>\n",
       "      <td>73</td>\n",
       "      <td>16781</td>\n",
       "      <td>m.0qh8v3</td>\n",
       "      <td>Minerva</td>\n",
       "      <td>362.0</td>\n",
       "      <td>Deftones</td>\n",
       "    </tr>\n",
       "    <tr>\n",
       "      <th>2</th>\n",
       "      <td>0</td>\n",
       "      <td>74</td>\n",
       "      <td>16780</td>\n",
       "      <td>m.0qh8vb</td>\n",
       "      <td>Good Morning Beautiful</td>\n",
       "      <td>362.0</td>\n",
       "      <td>Deftones</td>\n",
       "    </tr>\n",
       "    <tr>\n",
       "      <th>3</th>\n",
       "      <td>0</td>\n",
       "      <td>75</td>\n",
       "      <td>16779</td>\n",
       "      <td>m.0qh8vk</td>\n",
       "      <td>Deathblow</td>\n",
       "      <td>362.0</td>\n",
       "      <td>Deftones</td>\n",
       "    </tr>\n",
       "    <tr>\n",
       "      <th>4</th>\n",
       "      <td>0</td>\n",
       "      <td>76</td>\n",
       "      <td>16778</td>\n",
       "      <td>m.0w2yfq</td>\n",
       "      <td>When Girls Telephone Boys</td>\n",
       "      <td>362.0</td>\n",
       "      <td>Deftones</td>\n",
       "    </tr>\n",
       "  </tbody>\n",
       "</table>\n",
       "</div>"
      ],
      "text/plain": [
       "   user_id  item_id  org_id freebase_id                 track_name  artist_id  \\\n",
       "0        0       72   16782    m.0qh8tx           Needles and Pins      362.0   \n",
       "1        0       73   16781    m.0qh8v3                    Minerva      362.0   \n",
       "2        0       74   16780    m.0qh8vb     Good Morning Beautiful      362.0   \n",
       "3        0       75   16779    m.0qh8vk                  Deathblow      362.0   \n",
       "4        0       76   16778    m.0w2yfq  When Girls Telephone Boys      362.0   \n",
       "\n",
       "  artist_name  \n",
       "0    Deftones  \n",
       "1    Deftones  \n",
       "2    Deftones  \n",
       "3    Deftones  \n",
       "4    Deftones  "
      ]
     },
     "execution_count": 47,
     "metadata": {},
     "output_type": "execute_result"
    }
   ],
   "source": [
    "all_df = pd.read_csv(interaction_file_path, index_col=0)\n",
    "all_df = all_df.drop_duplicates()\n",
    "all_df.head()"
   ]
  },
  {
   "cell_type": "code",
   "execution_count": 48,
   "metadata": {},
   "outputs": [
    {
     "data": {
      "text/html": [
       "<div>\n",
       "<style scoped>\n",
       "    .dataframe tbody tr th:only-of-type {\n",
       "        vertical-align: middle;\n",
       "    }\n",
       "\n",
       "    .dataframe tbody tr th {\n",
       "        vertical-align: top;\n",
       "    }\n",
       "\n",
       "    .dataframe thead th {\n",
       "        text-align: right;\n",
       "    }\n",
       "</style>\n",
       "<table border=\"1\" class=\"dataframe\">\n",
       "  <thead>\n",
       "    <tr style=\"text-align: right;\">\n",
       "      <th></th>\n",
       "      <th>user_id</th>\n",
       "      <th>item_id</th>\n",
       "      <th>org_id</th>\n",
       "      <th>freebase_id</th>\n",
       "      <th>track_name</th>\n",
       "      <th>artist_id</th>\n",
       "      <th>artist_name</th>\n",
       "    </tr>\n",
       "  </thead>\n",
       "  <tbody>\n",
       "    <tr>\n",
       "      <th>616264</th>\n",
       "      <td>23553</td>\n",
       "      <td>7345</td>\n",
       "      <td>181605</td>\n",
       "      <td>m.0lgbq3</td>\n",
       "      <td>Rain When I Die</td>\n",
       "      <td>93.0</td>\n",
       "      <td>Alice in Chains</td>\n",
       "    </tr>\n",
       "    <tr>\n",
       "      <th>616265</th>\n",
       "      <td>23553</td>\n",
       "      <td>2814</td>\n",
       "      <td>129341</td>\n",
       "      <td>m.0y55z_</td>\n",
       "      <td>Down in a Hole</td>\n",
       "      <td>93.0</td>\n",
       "      <td>Alice in Chains</td>\n",
       "    </tr>\n",
       "    <tr>\n",
       "      <th>616266</th>\n",
       "      <td>23553</td>\n",
       "      <td>8349</td>\n",
       "      <td>181604</td>\n",
       "      <td>m.0lgbqb</td>\n",
       "      <td>Sickman</td>\n",
       "      <td>93.0</td>\n",
       "      <td>Alice in Chains</td>\n",
       "    </tr>\n",
       "    <tr>\n",
       "      <th>616267</th>\n",
       "      <td>23553</td>\n",
       "      <td>8347</td>\n",
       "      <td>181600</td>\n",
       "      <td>m.0lgbqs</td>\n",
       "      <td>Junkhead</td>\n",
       "      <td>93.0</td>\n",
       "      <td>Alice in Chains</td>\n",
       "    </tr>\n",
       "    <tr>\n",
       "      <th>616268</th>\n",
       "      <td>23553</td>\n",
       "      <td>13325</td>\n",
       "      <td>18156</td>\n",
       "      <td>m.015vjsc</td>\n",
       "      <td>Into the Rainbow Vein</td>\n",
       "      <td>2267.0</td>\n",
       "      <td>Boards of Canada</td>\n",
       "    </tr>\n",
       "    <tr>\n",
       "      <th>616269</th>\n",
       "      <td>23553</td>\n",
       "      <td>13326</td>\n",
       "      <td>18155</td>\n",
       "      <td>m.015vjsl</td>\n",
       "      <td>Chromakey Dreamcoat</td>\n",
       "      <td>2267.0</td>\n",
       "      <td>Boards of Canada</td>\n",
       "    </tr>\n",
       "    <tr>\n",
       "      <th>616270</th>\n",
       "      <td>23553</td>\n",
       "      <td>13327</td>\n",
       "      <td>18154</td>\n",
       "      <td>m.015vjst</td>\n",
       "      <td>Satellite Anthem Icarus</td>\n",
       "      <td>2267.0</td>\n",
       "      <td>Boards of Canada</td>\n",
       "    </tr>\n",
       "    <tr>\n",
       "      <th>616271</th>\n",
       "      <td>23553</td>\n",
       "      <td>13328</td>\n",
       "      <td>18153</td>\n",
       "      <td>m.0152yhm</td>\n",
       "      <td>Peacock Tail</td>\n",
       "      <td>2267.0</td>\n",
       "      <td>Boards of Canada</td>\n",
       "    </tr>\n",
       "    <tr>\n",
       "      <th>616272</th>\n",
       "      <td>23553</td>\n",
       "      <td>13329</td>\n",
       "      <td>18152</td>\n",
       "      <td>m.0152yhv</td>\n",
       "      <td>Dayvan Cowboy</td>\n",
       "      <td>2267.0</td>\n",
       "      <td>Boards of Canada</td>\n",
       "    </tr>\n",
       "    <tr>\n",
       "      <th>616273</th>\n",
       "      <td>23553</td>\n",
       "      <td>13330</td>\n",
       "      <td>18151</td>\n",
       "      <td>m.015vjtg</td>\n",
       "      <td>A Moment of Clarity</td>\n",
       "      <td>2267.0</td>\n",
       "      <td>Boards of Canada</td>\n",
       "    </tr>\n",
       "    <tr>\n",
       "      <th>616274</th>\n",
       "      <td>23553</td>\n",
       "      <td>13331</td>\n",
       "      <td>18149</td>\n",
       "      <td>m.015vjtx</td>\n",
       "      <td>Sherbet Head</td>\n",
       "      <td>2267.0</td>\n",
       "      <td>Boards of Canada</td>\n",
       "    </tr>\n",
       "    <tr>\n",
       "      <th>616275</th>\n",
       "      <td>23553</td>\n",
       "      <td>13332</td>\n",
       "      <td>18074</td>\n",
       "      <td>m.0152yjq</td>\n",
       "      <td>Oscar See Through Red Eye</td>\n",
       "      <td>2267.0</td>\n",
       "      <td>Boards of Canada</td>\n",
       "    </tr>\n",
       "    <tr>\n",
       "      <th>616276</th>\n",
       "      <td>23553</td>\n",
       "      <td>13333</td>\n",
       "      <td>17986</td>\n",
       "      <td>m.015vjvb</td>\n",
       "      <td>Ataronchronon</td>\n",
       "      <td>2267.0</td>\n",
       "      <td>Boards of Canada</td>\n",
       "    </tr>\n",
       "    <tr>\n",
       "      <th>616277</th>\n",
       "      <td>23553</td>\n",
       "      <td>13334</td>\n",
       "      <td>17985</td>\n",
       "      <td>m.015vjvk</td>\n",
       "      <td>Hey Saturday Sun</td>\n",
       "      <td>2267.0</td>\n",
       "      <td>Boards of Canada</td>\n",
       "    </tr>\n",
       "    <tr>\n",
       "      <th>616278</th>\n",
       "      <td>23553</td>\n",
       "      <td>13335</td>\n",
       "      <td>17984</td>\n",
       "      <td>m.0152ykc</td>\n",
       "      <td>Constants Are Changing</td>\n",
       "      <td>2267.0</td>\n",
       "      <td>Boards of Canada</td>\n",
       "    </tr>\n",
       "    <tr>\n",
       "      <th>616279</th>\n",
       "      <td>23553</td>\n",
       "      <td>13336</td>\n",
       "      <td>17983</td>\n",
       "      <td>m.015vjv_</td>\n",
       "      <td>Slow This Bird Down</td>\n",
       "      <td>2267.0</td>\n",
       "      <td>Boards of Canada</td>\n",
       "    </tr>\n",
       "    <tr>\n",
       "      <th>616280</th>\n",
       "      <td>23553</td>\n",
       "      <td>27386</td>\n",
       "      <td>383782</td>\n",
       "      <td>m.0l17td</td>\n",
       "      <td>Dig Your Own Hole</td>\n",
       "      <td>3153.0</td>\n",
       "      <td>The Chemical Brothers</td>\n",
       "    </tr>\n",
       "    <tr>\n",
       "      <th>616281</th>\n",
       "      <td>23553</td>\n",
       "      <td>21515</td>\n",
       "      <td>383781</td>\n",
       "      <td>m.0l17tm</td>\n",
       "      <td>Elektrobank</td>\n",
       "      <td>3153.0</td>\n",
       "      <td>The Chemical Brothers</td>\n",
       "    </tr>\n",
       "    <tr>\n",
       "      <th>616282</th>\n",
       "      <td>23553</td>\n",
       "      <td>32367</td>\n",
       "      <td>383780</td>\n",
       "      <td>m.0l17tv</td>\n",
       "      <td>Piku</td>\n",
       "      <td>3153.0</td>\n",
       "      <td>The Chemical Brothers</td>\n",
       "    </tr>\n",
       "    <tr>\n",
       "      <th>616283</th>\n",
       "      <td>23553</td>\n",
       "      <td>18546</td>\n",
       "      <td>318803</td>\n",
       "      <td>m.0f521wz</td>\n",
       "      <td>It Doesn't Matter</td>\n",
       "      <td>3153.0</td>\n",
       "      <td>The Chemical Brothers</td>\n",
       "    </tr>\n",
       "    <tr>\n",
       "      <th>616284</th>\n",
       "      <td>23553</td>\n",
       "      <td>32</td>\n",
       "      <td>328346</td>\n",
       "      <td>m.0lk4xk</td>\n",
       "      <td>Rhinosaur</td>\n",
       "      <td>507.0</td>\n",
       "      <td>Soundgarden</td>\n",
       "    </tr>\n",
       "    <tr>\n",
       "      <th>616285</th>\n",
       "      <td>23553</td>\n",
       "      <td>33</td>\n",
       "      <td>328345</td>\n",
       "      <td>m.0lk4xs</td>\n",
       "      <td>Zero Chance</td>\n",
       "      <td>507.0</td>\n",
       "      <td>Soundgarden</td>\n",
       "    </tr>\n",
       "    <tr>\n",
       "      <th>616286</th>\n",
       "      <td>23553</td>\n",
       "      <td>34</td>\n",
       "      <td>326812</td>\n",
       "      <td>m.0zns0v</td>\n",
       "      <td>Ty Cobb</td>\n",
       "      <td>507.0</td>\n",
       "      <td>Soundgarden</td>\n",
       "    </tr>\n",
       "  </tbody>\n",
       "</table>\n",
       "</div>"
      ],
      "text/plain": [
       "        user_id  item_id  org_id freebase_id                 track_name  \\\n",
       "616264    23553     7345  181605    m.0lgbq3            Rain When I Die   \n",
       "616265    23553     2814  129341    m.0y55z_             Down in a Hole   \n",
       "616266    23553     8349  181604    m.0lgbqb                    Sickman   \n",
       "616267    23553     8347  181600    m.0lgbqs                   Junkhead   \n",
       "616268    23553    13325   18156   m.015vjsc      Into the Rainbow Vein   \n",
       "616269    23553    13326   18155   m.015vjsl        Chromakey Dreamcoat   \n",
       "616270    23553    13327   18154   m.015vjst    Satellite Anthem Icarus   \n",
       "616271    23553    13328   18153   m.0152yhm               Peacock Tail   \n",
       "616272    23553    13329   18152   m.0152yhv              Dayvan Cowboy   \n",
       "616273    23553    13330   18151   m.015vjtg        A Moment of Clarity   \n",
       "616274    23553    13331   18149   m.015vjtx               Sherbet Head   \n",
       "616275    23553    13332   18074   m.0152yjq  Oscar See Through Red Eye   \n",
       "616276    23553    13333   17986   m.015vjvb              Ataronchronon   \n",
       "616277    23553    13334   17985   m.015vjvk           Hey Saturday Sun   \n",
       "616278    23553    13335   17984   m.0152ykc     Constants Are Changing   \n",
       "616279    23553    13336   17983   m.015vjv_        Slow This Bird Down   \n",
       "616280    23553    27386  383782    m.0l17td          Dig Your Own Hole   \n",
       "616281    23553    21515  383781    m.0l17tm                Elektrobank   \n",
       "616282    23553    32367  383780    m.0l17tv                       Piku   \n",
       "616283    23553    18546  318803   m.0f521wz          It Doesn't Matter   \n",
       "616284    23553       32  328346    m.0lk4xk                  Rhinosaur   \n",
       "616285    23553       33  328345    m.0lk4xs                Zero Chance   \n",
       "616286    23553       34  326812    m.0zns0v                    Ty Cobb   \n",
       "\n",
       "        artist_id            artist_name  \n",
       "616264       93.0        Alice in Chains  \n",
       "616265       93.0        Alice in Chains  \n",
       "616266       93.0        Alice in Chains  \n",
       "616267       93.0        Alice in Chains  \n",
       "616268     2267.0       Boards of Canada  \n",
       "616269     2267.0       Boards of Canada  \n",
       "616270     2267.0       Boards of Canada  \n",
       "616271     2267.0       Boards of Canada  \n",
       "616272     2267.0       Boards of Canada  \n",
       "616273     2267.0       Boards of Canada  \n",
       "616274     2267.0       Boards of Canada  \n",
       "616275     2267.0       Boards of Canada  \n",
       "616276     2267.0       Boards of Canada  \n",
       "616277     2267.0       Boards of Canada  \n",
       "616278     2267.0       Boards of Canada  \n",
       "616279     2267.0       Boards of Canada  \n",
       "616280     3153.0  The Chemical Brothers  \n",
       "616281     3153.0  The Chemical Brothers  \n",
       "616282     3153.0  The Chemical Brothers  \n",
       "616283     3153.0  The Chemical Brothers  \n",
       "616284      507.0            Soundgarden  \n",
       "616285      507.0            Soundgarden  \n",
       "616286      507.0            Soundgarden  "
      ]
     },
     "execution_count": 48,
     "metadata": {},
     "output_type": "execute_result"
    }
   ],
   "source": [
    "all_df[all_df['user_id']==23553]"
   ]
  },
  {
   "cell_type": "code",
   "execution_count": 49,
   "metadata": {},
   "outputs": [
    {
     "data": {
      "text/html": [
       "<div>\n",
       "<style scoped>\n",
       "    .dataframe tbody tr th:only-of-type {\n",
       "        vertical-align: middle;\n",
       "    }\n",
       "\n",
       "    .dataframe tbody tr th {\n",
       "        vertical-align: top;\n",
       "    }\n",
       "\n",
       "    .dataframe thead th {\n",
       "        text-align: right;\n",
       "    }\n",
       "</style>\n",
       "<table border=\"1\" class=\"dataframe\">\n",
       "  <thead>\n",
       "    <tr style=\"text-align: right;\">\n",
       "      <th></th>\n",
       "      <th>user_id</th>\n",
       "      <th>item_id</th>\n",
       "      <th>track_name</th>\n",
       "      <th>artist_name</th>\n",
       "    </tr>\n",
       "  </thead>\n",
       "  <tbody>\n",
       "    <tr>\n",
       "      <th>0</th>\n",
       "      <td>0</td>\n",
       "      <td>72</td>\n",
       "      <td>Needles and Pins</td>\n",
       "      <td>Deftones</td>\n",
       "    </tr>\n",
       "    <tr>\n",
       "      <th>1</th>\n",
       "      <td>0</td>\n",
       "      <td>73</td>\n",
       "      <td>Minerva</td>\n",
       "      <td>Deftones</td>\n",
       "    </tr>\n",
       "    <tr>\n",
       "      <th>2</th>\n",
       "      <td>0</td>\n",
       "      <td>74</td>\n",
       "      <td>Good Morning Beautiful</td>\n",
       "      <td>Deftones</td>\n",
       "    </tr>\n",
       "    <tr>\n",
       "      <th>3</th>\n",
       "      <td>0</td>\n",
       "      <td>75</td>\n",
       "      <td>Deathblow</td>\n",
       "      <td>Deftones</td>\n",
       "    </tr>\n",
       "    <tr>\n",
       "      <th>4</th>\n",
       "      <td>0</td>\n",
       "      <td>76</td>\n",
       "      <td>When Girls Telephone Boys</td>\n",
       "      <td>Deftones</td>\n",
       "    </tr>\n",
       "  </tbody>\n",
       "</table>\n",
       "</div>"
      ],
      "text/plain": [
       "   user_id  item_id                 track_name artist_name\n",
       "0        0       72           Needles and Pins    Deftones\n",
       "1        0       73                    Minerva    Deftones\n",
       "2        0       74     Good Morning Beautiful    Deftones\n",
       "3        0       75                  Deathblow    Deftones\n",
       "4        0       76  When Girls Telephone Boys    Deftones"
      ]
     },
     "execution_count": 49,
     "metadata": {},
     "output_type": "execute_result"
    }
   ],
   "source": [
    "all_df = all_df.drop(['org_id', 'freebase_id', 'artist_id'], axis=1)\n",
    "all_df.head()"
   ]
  },
  {
   "cell_type": "code",
   "execution_count": 50,
   "metadata": {},
   "outputs": [],
   "source": [
    "top_user_data_df = all_df.query('user_id in {}'.format(list(top_ndcg_user_ids)))\n",
    "worst_user_data_df = all_df.query('user_id in {}'.format(list(worst_ndcg_user_ids)))"
   ]
  },
  {
   "cell_type": "code",
   "execution_count": 51,
   "metadata": {},
   "outputs": [],
   "source": [
    "top_user_data_df = top_user_data_df.drop_duplicates()\n",
    "worst_user_data_df = worst_user_data_df.drop_duplicates()"
   ]
  },
  {
   "cell_type": "code",
   "execution_count": 52,
   "metadata": {},
   "outputs": [],
   "source": [
    "# 学習用データ\n",
    "# top_user_data_df.to_csv(saved_path + 'top_user_train_data.csv', encoding='utf_8_sig')\n",
    "# worst_user_data_df.to_csv(saved_path + 'worst_user_train_data.csv', encoding='utf_8_sig')"
   ]
  },
  {
   "cell_type": "code",
   "execution_count": 53,
   "metadata": {},
   "outputs": [],
   "source": [
    "# テスト用データ\n",
    "top_user_data_df.to_csv(saved_path + 'top_user_test_data.csv', encoding='utf_8_sig')\n",
    "worst_user_data_df.to_csv(saved_path + 'worst_user_test_data.csv', encoding='utf_8_sig')"
   ]
  }
 ],
 "metadata": {
  "kernelspec": {
   "display_name": "Python 3",
   "language": "python",
   "name": "python3"
  },
  "language_info": {
   "codemirror_mode": {
    "name": "ipython",
    "version": 3
   },
   "file_extension": ".py",
   "mimetype": "text/x-python",
   "name": "python",
   "nbconvert_exporter": "python",
   "pygments_lexer": "ipython3",
   "version": "3.6.6"
  }
 },
 "nbformat": 4,
 "nbformat_minor": 2
}
