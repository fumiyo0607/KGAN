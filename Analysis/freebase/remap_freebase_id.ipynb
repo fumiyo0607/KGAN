{
 "cells": [
  {
   "cell_type": "code",
   "execution_count": null,
   "metadata": {},
   "outputs": [],
   "source": [
    "import pandas as pd"
   ]
  },
  {
   "cell_type": "markdown",
   "metadata": {},
   "source": [
    "### entity データのロード"
   ]
  },
  {
   "cell_type": "code",
   "execution_count": null,
   "metadata": {},
   "outputs": [],
   "source": [
    "df = pd.read_csv('entity_list.txt', sep=' ')\n",
    "df.head()"
   ]
  },
  {
   "cell_type": "code",
   "execution_count": null,
   "metadata": {},
   "outputs": [],
   "source": [
    "org_id_list = list(df['org_id'])"
   ]
  },
  {
   "cell_type": "markdown",
   "metadata": {},
   "source": [
    "### freebase データの読み込み"
   ]
  },
  {
   "cell_type": "code",
   "execution_count": null,
   "metadata": {},
   "outputs": [],
   "source": [
    "def reshape_data(data):\n",
    "    table = data.maketrans({\n",
    "        '\\n' : '',\n",
    "        '<'   : '',\n",
    "        '>'   : ''\n",
    "    })\n",
    "    reshape_data = data.translate(table)\n",
    "    reshape_data = str(reshape_data)\n",
    "    reshape_data.replace(\" \", \"\")\n",
    "    \n",
    "    return reshape_data"
   ]
  },
  {
   "cell_type": "code",
   "execution_count": null,
   "metadata": {},
   "outputs": [],
   "source": [
    "def reshape_wiki_url(data):\n",
    "    datas = data.rsplit(' .')\n",
    "    return data[0]"
   ]
  },
  {
   "cell_type": "code",
   "execution_count": null,
   "metadata": {},
   "outputs": [],
   "source": [
    "data_path = './' \n",
    "file_name = 'fb2w.nt'\n",
    "\n",
    "DATA_SIZE = 3\n",
    "\n",
    "freebase_id_list = []\n",
    "wiki_url_list = []\n",
    "\n",
    "\n",
    "counter = 0\n",
    "\n",
    "f = open( data_path + file_name)\n",
    "line = f.readline()\n",
    "\n",
    "while line:\n",
    "    \n",
    "    line = f.readline()\n",
    "    \n",
    "    if '<http://rdf.freebase' in line:\n",
    "        \n",
    "        data = line.split('\\t')\n",
    "        \n",
    " \n",
    "        if len(data) == DATA_SIZE:\n",
    "            data[0] = reshape_data(data[0])\n",
    "            data[1] = reshape_data(data[1])\n",
    "            data[2] = reshape_data(data[2])\n",
    "            data[2] = data[2].rstrip(' .')\n",
    "            \n",
    "            freebase_id = data[2].lstrip(\"http://rdf.freebase.com/ns/\")\n",
    "            freebase_id = 'm.' + freebase_id\n",
    "            \n",
    "            if freebase_id in org_id_list:\n",
    "                freebase_id_list.append(freebase_id)\n",
    "                wiki_url_list.append(data[2])\n",
    "    \n",
    "    \n",
    "f.close()"
   ]
  }
 ],
 "metadata": {
  "kernelspec": {
   "display_name": "kgat",
   "language": "python",
   "name": "kgat"
  },
  "language_info": {
   "codemirror_mode": {
    "name": "ipython",
    "version": 3
   },
   "file_extension": ".py",
   "mimetype": "text/x-python",
   "name": "python",
   "nbconvert_exporter": "python",
   "pygments_lexer": "ipython3",
   "version": "3.6.5"
  }
 },
 "nbformat": 4,
 "nbformat_minor": 2
}
