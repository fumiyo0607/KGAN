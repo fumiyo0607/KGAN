{
 "cells": [
  {
   "cell_type": "code",
   "execution_count": 1,
   "metadata": {},
   "outputs": [],
   "source": [
    "import os\n",
    "from collections import defaultdict\n",
    "import numpy as np\n",
    "import pandas as pd\n",
    "import pickle\n",
    "import matplotlib.pyplot as plt\n",
    "import scipy.sparse as sp\n",
    "from tqdm import tqdm"
   ]
  },
  {
   "cell_type": "markdown",
   "metadata": {},
   "source": [
    "### path data のロード"
   ]
  },
  {
   "cell_type": "code",
   "execution_count": 2,
   "metadata": {},
   "outputs": [],
   "source": [
    "saved_path = './attention_path/'\n",
    "# file_name = 'top_100_users_path.pickle'\n",
    "file_name = 'worst_100_users.pickle'\n",
    "\n",
    "with open (saved_path + file_name, 'rb') as f:\n",
    "    path = pickle.load(f)"
   ]
  },
  {
   "cell_type": "code",
   "execution_count": 3,
   "metadata": {},
   "outputs": [],
   "source": [
    "users = path.keys()"
   ]
  },
  {
   "cell_type": "markdown",
   "metadata": {},
   "source": [
    "### DataFrame に変換"
   ]
  },
  {
   "cell_type": "code",
   "execution_count": 4,
   "metadata": {},
   "outputs": [],
   "source": [
    "user_list = []\n",
    "total_att_score_list = []\n",
    "relation_list = []\n",
    "item_id_list = [] \n",
    "entity_id_list = [] \n",
    "rec_item_id_list = [] \n",
    "user_to_item_att_list = []\n",
    "item_to_entity_att_list = []\n",
    "entity_to_rec_item_att_list = []\n",
    "\n",
    "for user in users:\n",
    "    \n",
    "    rec_items = path[user].keys()\n",
    "    \n",
    "    for rec_item in rec_items:\n",
    "        \n",
    "        data = path[user][rec_item]\n",
    "        \n",
    "        user_list.append(user)\n",
    "        total_att_score_list.append(data['total_att_score'])\n",
    "        relation_list.append(data['relation'])\n",
    "        item_id_list.append(data['item_id'])\n",
    "        entity_id_list.append(data['entity_id'])\n",
    "        rec_item_id_list.append(data['rec_item_id'])\n",
    "        user_to_item_att_list.append(data['user_to_item'])\n",
    "        item_to_entity_att_list.append(data['item_to_entity'])\n",
    "        entity_to_rec_item_att_list.append(data['entity_to_rec_item'])\n",
    "    "
   ]
  },
  {
   "cell_type": "code",
   "execution_count": 5,
   "metadata": {},
   "outputs": [],
   "source": [
    "df = pd.DataFrame(\n",
    "    data = {\n",
    "        'user_id' : user_list,\n",
    "        'total_att_score'    : total_att_score_list,\n",
    "        'relation'  : relation_list,\n",
    "        'item_id'  : item_id_list, \n",
    "        'entity_id'  : entity_id_list, \n",
    "        'rec_item_id' : rec_item_id_list,\n",
    "        'user_to_item' : user_to_item_att_list,\n",
    "        'item_to_entity'  : item_to_entity_att_list,\n",
    "        'entity_to_rec_item' : entity_to_rec_item_att_list\n",
    "    }\n",
    ")"
   ]
  },
  {
   "cell_type": "code",
   "execution_count": 6,
   "metadata": {},
   "outputs": [
    {
     "data": {
      "text/html": [
       "<div>\n",
       "<style scoped>\n",
       "    .dataframe tbody tr th:only-of-type {\n",
       "        vertical-align: middle;\n",
       "    }\n",
       "\n",
       "    .dataframe tbody tr th {\n",
       "        vertical-align: top;\n",
       "    }\n",
       "\n",
       "    .dataframe thead th {\n",
       "        text-align: right;\n",
       "    }\n",
       "</style>\n",
       "<table border=\"1\" class=\"dataframe\">\n",
       "  <thead>\n",
       "    <tr style=\"text-align: right;\">\n",
       "      <th></th>\n",
       "      <th>user_id</th>\n",
       "      <th>total_att_score</th>\n",
       "      <th>relation</th>\n",
       "      <th>item_id</th>\n",
       "      <th>entity_id</th>\n",
       "      <th>rec_item_id</th>\n",
       "      <th>user_to_item</th>\n",
       "      <th>item_to_entity</th>\n",
       "      <th>entity_to_rec_item</th>\n",
       "    </tr>\n",
       "  </thead>\n",
       "  <tbody>\n",
       "    <tr>\n",
       "      <th>0</th>\n",
       "      <td>23398</td>\n",
       "      <td>0.103790</td>\n",
       "      <td>4</td>\n",
       "      <td>33955</td>\n",
       "      <td>72945</td>\n",
       "      <td>7437</td>\n",
       "      <td>0.046258</td>\n",
       "      <td>0.028398</td>\n",
       "      <td>0.029134</td>\n",
       "    </tr>\n",
       "    <tr>\n",
       "      <th>1</th>\n",
       "      <td>23398</td>\n",
       "      <td>0.123016</td>\n",
       "      <td>0</td>\n",
       "      <td>46270</td>\n",
       "      <td>48123</td>\n",
       "      <td>26916</td>\n",
       "      <td>0.031471</td>\n",
       "      <td>0.091524</td>\n",
       "      <td>0.000021</td>\n",
       "    </tr>\n",
       "    <tr>\n",
       "      <th>2</th>\n",
       "      <td>23398</td>\n",
       "      <td>0.167075</td>\n",
       "      <td>1</td>\n",
       "      <td>8105</td>\n",
       "      <td>58933</td>\n",
       "      <td>8085</td>\n",
       "      <td>0.063933</td>\n",
       "      <td>0.017670</td>\n",
       "      <td>0.085473</td>\n",
       "    </tr>\n",
       "    <tr>\n",
       "      <th>3</th>\n",
       "      <td>23398</td>\n",
       "      <td>0.144308</td>\n",
       "      <td>1</td>\n",
       "      <td>33955</td>\n",
       "      <td>80247</td>\n",
       "      <td>10253</td>\n",
       "      <td>0.046258</td>\n",
       "      <td>0.018194</td>\n",
       "      <td>0.079857</td>\n",
       "    </tr>\n",
       "    <tr>\n",
       "      <th>4</th>\n",
       "      <td>23398</td>\n",
       "      <td>0.128185</td>\n",
       "      <td>4</td>\n",
       "      <td>8105</td>\n",
       "      <td>49245</td>\n",
       "      <td>8061</td>\n",
       "      <td>0.063933</td>\n",
       "      <td>0.037860</td>\n",
       "      <td>0.026392</td>\n",
       "    </tr>\n",
       "  </tbody>\n",
       "</table>\n",
       "</div>"
      ],
      "text/plain": [
       "   user_id  total_att_score  relation  item_id  entity_id  rec_item_id  \\\n",
       "0    23398         0.103790         4    33955      72945         7437   \n",
       "1    23398         0.123016         0    46270      48123        26916   \n",
       "2    23398         0.167075         1     8105      58933         8085   \n",
       "3    23398         0.144308         1    33955      80247        10253   \n",
       "4    23398         0.128185         4     8105      49245         8061   \n",
       "\n",
       "   user_to_item  item_to_entity  entity_to_rec_item  \n",
       "0      0.046258        0.028398            0.029134  \n",
       "1      0.031471        0.091524            0.000021  \n",
       "2      0.063933        0.017670            0.085473  \n",
       "3      0.046258        0.018194            0.079857  \n",
       "4      0.063933        0.037860            0.026392  "
      ]
     },
     "execution_count": 6,
     "metadata": {},
     "output_type": "execute_result"
    }
   ],
   "source": [
    "df.head()"
   ]
  },
  {
   "cell_type": "code",
   "execution_count": 7,
   "metadata": {},
   "outputs": [],
   "source": [
    "def save_variable_as_pickle(save_path, file_name, variable):\n",
    "    \n",
    "    if not os.path.exists(save_path):\n",
    "        os.makedirs(saved_path)\n",
    "    \n",
    "    with open(save_path + file_name + '.pickle', mode='wb') as f:\n",
    "        pickle.dump(variable, f)"
   ]
  },
  {
   "cell_type": "code",
   "execution_count": 8,
   "metadata": {},
   "outputs": [],
   "source": [
    "def ensure_path(path):\n",
    "    if not os.path.exists(path):\n",
    "        os.makedirs(path)"
   ]
  },
  {
   "cell_type": "code",
   "execution_count": 9,
   "metadata": {},
   "outputs": [],
   "source": [
    "file_name = 'worst_100_users.csv'\n",
    "\n",
    "ensure_path(saved_path)\n",
    "\n",
    "df.to_csv(saved_path + file_name)"
   ]
  }
 ],
 "metadata": {
  "kernelspec": {
   "display_name": "kgat",
   "language": "python",
   "name": "kgat"
  },
  "language_info": {
   "codemirror_mode": {
    "name": "ipython",
    "version": 3
   },
   "file_extension": ".py",
   "mimetype": "text/x-python",
   "name": "python",
   "nbconvert_exporter": "python",
   "pygments_lexer": "ipython3",
   "version": "3.6.5"
  }
 },
 "nbformat": 4,
 "nbformat_minor": 2
}
