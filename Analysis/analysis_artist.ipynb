{
 "cells": [
  {
   "cell_type": "code",
   "execution_count": 1,
   "metadata": {},
   "outputs": [],
   "source": [
    "import pandas as pd\n",
    "from collections import defaultdict\n",
    "from tqdm import tqdm\n",
    "import os\n",
    "import numpy as np"
   ]
  },
  {
   "cell_type": "markdown",
   "metadata": {},
   "source": [
    "### Knowledge Graph のデータの読み込み"
   ]
  },
  {
   "cell_type": "code",
   "execution_count": 2,
   "metadata": {},
   "outputs": [],
   "source": [
    "kg_df = pd.read_csv('./data/last-fm/kg_final.txt', sep=' ', header=None, names=('e_h','r','e_t'))"
   ]
  },
  {
   "cell_type": "code",
   "execution_count": 3,
   "metadata": {},
   "outputs": [
    {
     "data": {
      "text/html": [
       "<div>\n",
       "<style scoped>\n",
       "    .dataframe tbody tr th:only-of-type {\n",
       "        vertical-align: middle;\n",
       "    }\n",
       "\n",
       "    .dataframe tbody tr th {\n",
       "        vertical-align: top;\n",
       "    }\n",
       "\n",
       "    .dataframe thead th {\n",
       "        text-align: right;\n",
       "    }\n",
       "</style>\n",
       "<table border=\"1\" class=\"dataframe\">\n",
       "  <thead>\n",
       "    <tr style=\"text-align: right;\">\n",
       "      <th></th>\n",
       "      <th>e_h</th>\n",
       "      <th>r</th>\n",
       "      <th>e_t</th>\n",
       "    </tr>\n",
       "  </thead>\n",
       "  <tbody>\n",
       "    <tr>\n",
       "      <th>0</th>\n",
       "      <td>12700</td>\n",
       "      <td>0</td>\n",
       "      <td>48123</td>\n",
       "    </tr>\n",
       "    <tr>\n",
       "      <th>1</th>\n",
       "      <td>18104</td>\n",
       "      <td>0</td>\n",
       "      <td>48123</td>\n",
       "    </tr>\n",
       "    <tr>\n",
       "      <th>2</th>\n",
       "      <td>25838</td>\n",
       "      <td>1</td>\n",
       "      <td>48124</td>\n",
       "    </tr>\n",
       "    <tr>\n",
       "      <th>3</th>\n",
       "      <td>41691</td>\n",
       "      <td>2</td>\n",
       "      <td>48125</td>\n",
       "    </tr>\n",
       "    <tr>\n",
       "      <th>4</th>\n",
       "      <td>9746</td>\n",
       "      <td>1</td>\n",
       "      <td>48126</td>\n",
       "    </tr>\n",
       "  </tbody>\n",
       "</table>\n",
       "</div>"
      ],
      "text/plain": [
       "     e_h  r    e_t\n",
       "0  12700  0  48123\n",
       "1  18104  0  48123\n",
       "2  25838  1  48124\n",
       "3  41691  2  48125\n",
       "4   9746  1  48126"
      ]
     },
     "execution_count": 3,
     "metadata": {},
     "output_type": "execute_result"
    }
   ],
   "source": [
    "kg_df.head()"
   ]
  },
  {
   "cell_type": "markdown",
   "metadata": {},
   "source": [
    "### アーティストのデータの読み込み"
   ]
  },
  {
   "cell_type": "code",
   "execution_count": 4,
   "metadata": {},
   "outputs": [],
   "source": [
    "artist = 'Taylor Swift'"
   ]
  },
  {
   "cell_type": "code",
   "execution_count": 5,
   "metadata": {},
   "outputs": [
    {
     "name": "stdout",
     "output_type": "stream",
     "text": [
      "item_num:23\n"
     ]
    }
   ],
   "source": [
    "artist_df = pd.read_csv('./artist_item_data/{}.csv'.format(artist))\n",
    "artist_df = artist_df.drop('Unnamed: 0', axis=1)\n",
    "print('item_num:{}'.format(len(artist_df)))"
   ]
  },
  {
   "cell_type": "code",
   "execution_count": 6,
   "metadata": {},
   "outputs": [
    {
     "data": {
      "text/html": [
       "<div>\n",
       "<style scoped>\n",
       "    .dataframe tbody tr th:only-of-type {\n",
       "        vertical-align: middle;\n",
       "    }\n",
       "\n",
       "    .dataframe tbody tr th {\n",
       "        vertical-align: top;\n",
       "    }\n",
       "\n",
       "    .dataframe thead th {\n",
       "        text-align: right;\n",
       "    }\n",
       "</style>\n",
       "<table border=\"1\" class=\"dataframe\">\n",
       "  <thead>\n",
       "    <tr style=\"text-align: right;\">\n",
       "      <th></th>\n",
       "      <th>item_id</th>\n",
       "      <th>track_name</th>\n",
       "      <th>artist_name</th>\n",
       "      <th>interaction</th>\n",
       "    </tr>\n",
       "  </thead>\n",
       "  <tbody>\n",
       "    <tr>\n",
       "      <th>0</th>\n",
       "      <td>5255</td>\n",
       "      <td>Hey Stephen</td>\n",
       "      <td>Taylor Swift</td>\n",
       "      <td>22.0</td>\n",
       "    </tr>\n",
       "    <tr>\n",
       "      <th>1</th>\n",
       "      <td>5392</td>\n",
       "      <td>Mary's Song (Oh My My My)</td>\n",
       "      <td>Taylor Swift</td>\n",
       "      <td>13.0</td>\n",
       "    </tr>\n",
       "    <tr>\n",
       "      <th>2</th>\n",
       "      <td>5361</td>\n",
       "      <td>Tied Together With a Smile</td>\n",
       "      <td>Taylor Swift</td>\n",
       "      <td>8.0</td>\n",
       "    </tr>\n",
       "    <tr>\n",
       "      <th>3</th>\n",
       "      <td>20463</td>\n",
       "      <td>Fifteen</td>\n",
       "      <td>Taylor Swift</td>\n",
       "      <td>16.0</td>\n",
       "    </tr>\n",
       "    <tr>\n",
       "      <th>4</th>\n",
       "      <td>25060</td>\n",
       "      <td>Dear John</td>\n",
       "      <td>Taylor Swift</td>\n",
       "      <td>25.0</td>\n",
       "    </tr>\n",
       "  </tbody>\n",
       "</table>\n",
       "</div>"
      ],
      "text/plain": [
       "   item_id                  track_name   artist_name  interaction\n",
       "0     5255                 Hey Stephen  Taylor Swift         22.0\n",
       "1     5392   Mary's Song (Oh My My My)  Taylor Swift         13.0\n",
       "2     5361  Tied Together With a Smile  Taylor Swift          8.0\n",
       "3    20463                     Fifteen  Taylor Swift         16.0\n",
       "4    25060                   Dear John  Taylor Swift         25.0"
      ]
     },
     "execution_count": 6,
     "metadata": {},
     "output_type": "execute_result"
    }
   ],
   "source": [
    "artist_df.head()"
   ]
  },
  {
   "cell_type": "markdown",
   "metadata": {},
   "source": [
    "### アーティストのアイテムを含む relation を抽出"
   ]
  },
  {
   "cell_type": "code",
   "execution_count": 7,
   "metadata": {},
   "outputs": [],
   "source": [
    "item_list = list(artist_df['item_id'])"
   ]
  },
  {
   "cell_type": "code",
   "execution_count": 8,
   "metadata": {},
   "outputs": [],
   "source": [
    "target_kg_df = kg_df.query('e_h in {} or e_t in {}'.format(item_list, item_list))\n",
    "target_kg_df = target_kg_df.query('r == 2')"
   ]
  },
  {
   "cell_type": "code",
   "execution_count": 9,
   "metadata": {},
   "outputs": [
    {
     "data": {
      "text/html": [
       "<div>\n",
       "<style scoped>\n",
       "    .dataframe tbody tr th:only-of-type {\n",
       "        vertical-align: middle;\n",
       "    }\n",
       "\n",
       "    .dataframe tbody tr th {\n",
       "        vertical-align: top;\n",
       "    }\n",
       "\n",
       "    .dataframe thead th {\n",
       "        text-align: right;\n",
       "    }\n",
       "</style>\n",
       "<table border=\"1\" class=\"dataframe\">\n",
       "  <thead>\n",
       "    <tr style=\"text-align: right;\">\n",
       "      <th></th>\n",
       "      <th>e_h</th>\n",
       "      <th>r</th>\n",
       "      <th>e_t</th>\n",
       "    </tr>\n",
       "  </thead>\n",
       "  <tbody>\n",
       "    <tr>\n",
       "      <th>19315</th>\n",
       "      <td>5410</td>\n",
       "      <td>2</td>\n",
       "      <td>64848</td>\n",
       "    </tr>\n",
       "    <tr>\n",
       "      <th>19882</th>\n",
       "      <td>5395</td>\n",
       "      <td>2</td>\n",
       "      <td>64848</td>\n",
       "    </tr>\n",
       "    <tr>\n",
       "      <th>44360</th>\n",
       "      <td>5277</td>\n",
       "      <td>2</td>\n",
       "      <td>52699</td>\n",
       "    </tr>\n",
       "    <tr>\n",
       "      <th>55840</th>\n",
       "      <td>5357</td>\n",
       "      <td>2</td>\n",
       "      <td>64848</td>\n",
       "    </tr>\n",
       "    <tr>\n",
       "      <th>80218</th>\n",
       "      <td>5313</td>\n",
       "      <td>2</td>\n",
       "      <td>64848</td>\n",
       "    </tr>\n",
       "    <tr>\n",
       "      <th>86776</th>\n",
       "      <td>5337</td>\n",
       "      <td>2</td>\n",
       "      <td>64848</td>\n",
       "    </tr>\n",
       "    <tr>\n",
       "      <th>87481</th>\n",
       "      <td>5363</td>\n",
       "      <td>2</td>\n",
       "      <td>64848</td>\n",
       "    </tr>\n",
       "    <tr>\n",
       "      <th>114167</th>\n",
       "      <td>5361</td>\n",
       "      <td>2</td>\n",
       "      <td>64848</td>\n",
       "    </tr>\n",
       "    <tr>\n",
       "      <th>122887</th>\n",
       "      <td>20461</td>\n",
       "      <td>2</td>\n",
       "      <td>64848</td>\n",
       "    </tr>\n",
       "    <tr>\n",
       "      <th>170058</th>\n",
       "      <td>5370</td>\n",
       "      <td>2</td>\n",
       "      <td>64848</td>\n",
       "    </tr>\n",
       "  </tbody>\n",
       "</table>\n",
       "</div>"
      ],
      "text/plain": [
       "          e_h  r    e_t\n",
       "19315    5410  2  64848\n",
       "19882    5395  2  64848\n",
       "44360    5277  2  52699\n",
       "55840    5357  2  64848\n",
       "80218    5313  2  64848\n",
       "86776    5337  2  64848\n",
       "87481    5363  2  64848\n",
       "114167   5361  2  64848\n",
       "122887  20461  2  64848\n",
       "170058   5370  2  64848"
      ]
     },
     "execution_count": 9,
     "metadata": {},
     "output_type": "execute_result"
    }
   ],
   "source": [
    "target_kg_df.head(10)"
   ]
  },
  {
   "cell_type": "markdown",
   "metadata": {},
   "source": [
    "### アーティストの曲を聴いているユーザを抽出"
   ]
  },
  {
   "cell_type": "code",
   "execution_count": 10,
   "metadata": {},
   "outputs": [],
   "source": [
    "data_path = './data/last-fm/'\n",
    "\n",
    "#　train.txt を読み込む\n",
    "train_data = defaultdict(list)\n",
    "f = open( data_path + 'train.txt')\n",
    "line = f.readline()\n",
    "\n",
    "while line :\n",
    "\n",
    "    data = line.strip()\n",
    "    data_list = data.split()\n",
    "\n",
    "    user = data_list[0]\n",
    "    items = data_list[1:]\n",
    "    train_data[user] = items\n",
    "    \n",
    "    line = f.readline()\n",
    "    \n",
    "f.close()"
   ]
  },
  {
   "cell_type": "code",
   "execution_count": 11,
   "metadata": {},
   "outputs": [],
   "source": [
    "user_list = []\n",
    "item_list = []\n",
    "\n",
    "for user, items in train_data.items():\n",
    "    \n",
    "    for item in items:\n",
    "        user_list.append(user)\n",
    "        item_list.append(item)"
   ]
  },
  {
   "cell_type": "code",
   "execution_count": 12,
   "metadata": {},
   "outputs": [],
   "source": [
    "train_data_df = pd.DataFrame(\n",
    "    data = {\n",
    "        'user_id' : user_list,\n",
    "        'item_id' : item_list\n",
    "        \n",
    "    },\n",
    "    columns=['user_id', 'item_id']\n",
    ")"
   ]
  },
  {
   "cell_type": "code",
   "execution_count": 13,
   "metadata": {},
   "outputs": [],
   "source": [
    "target_item_list = list(artist_df['item_id'])\n",
    "target_item_list = [str(i) for i in target_item_list]"
   ]
  },
  {
   "cell_type": "code",
   "execution_count": 14,
   "metadata": {},
   "outputs": [
    {
     "name": "stdout",
     "output_type": "stream",
     "text": [
      "True\n"
     ]
    }
   ],
   "source": [
    "print('5410' in item_list)"
   ]
  },
  {
   "cell_type": "code",
   "execution_count": 15,
   "metadata": {},
   "outputs": [
    {
     "data": {
      "text/html": [
       "<div>\n",
       "<style scoped>\n",
       "    .dataframe tbody tr th:only-of-type {\n",
       "        vertical-align: middle;\n",
       "    }\n",
       "\n",
       "    .dataframe tbody tr th {\n",
       "        vertical-align: top;\n",
       "    }\n",
       "\n",
       "    .dataframe thead th {\n",
       "        text-align: right;\n",
       "    }\n",
       "</style>\n",
       "<table border=\"1\" class=\"dataframe\">\n",
       "  <thead>\n",
       "    <tr style=\"text-align: right;\">\n",
       "      <th></th>\n",
       "      <th>user_id</th>\n",
       "      <th>item_id</th>\n",
       "    </tr>\n",
       "  </thead>\n",
       "  <tbody>\n",
       "    <tr>\n",
       "      <th>17360</th>\n",
       "      <td>30</td>\n",
       "      <td>5255</td>\n",
       "    </tr>\n",
       "    <tr>\n",
       "      <th>17366</th>\n",
       "      <td>30</td>\n",
       "      <td>5255</td>\n",
       "    </tr>\n",
       "    <tr>\n",
       "      <th>17394</th>\n",
       "      <td>31</td>\n",
       "      <td>5269</td>\n",
       "    </tr>\n",
       "    <tr>\n",
       "      <th>17403</th>\n",
       "      <td>31</td>\n",
       "      <td>5277</td>\n",
       "    </tr>\n",
       "    <tr>\n",
       "      <th>17440</th>\n",
       "      <td>31</td>\n",
       "      <td>5277</td>\n",
       "    </tr>\n",
       "  </tbody>\n",
       "</table>\n",
       "</div>"
      ],
      "text/plain": [
       "      user_id item_id\n",
       "17360      30    5255\n",
       "17366      30    5255\n",
       "17394      31    5269\n",
       "17403      31    5277\n",
       "17440      31    5277"
      ]
     },
     "execution_count": 15,
     "metadata": {},
     "output_type": "execute_result"
    }
   ],
   "source": [
    "target_train_data_df = train_data_df.query('item_id in {}'.format(target_item_list))\n",
    "target_train_data_df.head()"
   ]
  },
  {
   "cell_type": "code",
   "execution_count": 16,
   "metadata": {},
   "outputs": [],
   "source": [
    "# 指定したアーティストの曲を聴いたユーザ\n",
    "target_user = list(target_train_data_df['user_id'].unique())"
   ]
  },
  {
   "cell_type": "markdown",
   "metadata": {},
   "source": [
    "### 指定したアーティストの曲を聴いたユーザについて<br>特定のアーティストの曲が占める割合を算出"
   ]
  },
  {
   "cell_type": "code",
   "execution_count": 17,
   "metadata": {},
   "outputs": [
    {
     "data": {
      "text/html": [
       "<div>\n",
       "<style scoped>\n",
       "    .dataframe tbody tr th:only-of-type {\n",
       "        vertical-align: middle;\n",
       "    }\n",
       "\n",
       "    .dataframe tbody tr th {\n",
       "        vertical-align: top;\n",
       "    }\n",
       "\n",
       "    .dataframe thead th {\n",
       "        text-align: right;\n",
       "    }\n",
       "</style>\n",
       "<table border=\"1\" class=\"dataframe\">\n",
       "  <thead>\n",
       "    <tr style=\"text-align: right;\">\n",
       "      <th></th>\n",
       "      <th>user_id</th>\n",
       "      <th>item_id</th>\n",
       "    </tr>\n",
       "  </thead>\n",
       "  <tbody>\n",
       "    <tr>\n",
       "      <th>17312</th>\n",
       "      <td>30</td>\n",
       "      <td>5230</td>\n",
       "    </tr>\n",
       "    <tr>\n",
       "      <th>17313</th>\n",
       "      <td>30</td>\n",
       "      <td>5231</td>\n",
       "    </tr>\n",
       "    <tr>\n",
       "      <th>17314</th>\n",
       "      <td>30</td>\n",
       "      <td>5232</td>\n",
       "    </tr>\n",
       "    <tr>\n",
       "      <th>17315</th>\n",
       "      <td>30</td>\n",
       "      <td>5233</td>\n",
       "    </tr>\n",
       "    <tr>\n",
       "      <th>17316</th>\n",
       "      <td>30</td>\n",
       "      <td>5234</td>\n",
       "    </tr>\n",
       "  </tbody>\n",
       "</table>\n",
       "</div>"
      ],
      "text/plain": [
       "      user_id item_id\n",
       "17312      30    5230\n",
       "17313      30    5231\n",
       "17314      30    5232\n",
       "17315      30    5233\n",
       "17316      30    5234"
      ]
     },
     "execution_count": 17,
     "metadata": {},
     "output_type": "execute_result"
    }
   ],
   "source": [
    "target_user_train_data_df = train_data_df.query('user_id in {}'.format(target_user))\n",
    "target_user_train_data_df.head()"
   ]
  },
  {
   "cell_type": "code",
   "execution_count": 18,
   "metadata": {},
   "outputs": [],
   "source": [
    "target_train_data = defaultdict(list)\n",
    "\n",
    "user_list = target_user_train_data_df['user_id']\n",
    "item_list = target_user_train_data_df['item_id']\n",
    "\n",
    "for user, item in zip(user_list, item_list):\n",
    "    target_train_data[user].append(item)"
   ]
  },
  {
   "cell_type": "code",
   "execution_count": 19,
   "metadata": {},
   "outputs": [],
   "source": [
    "unique_target_list = []\n",
    "ratio_list = []\n",
    "\n",
    "for user, items in target_train_data.items():\n",
    "    counter = 0\n",
    "    item_num = len(target_train_data[user])\n",
    "    \n",
    "    for item in items:\n",
    "        if item in target_item_list:\n",
    "            counter += 1\n",
    "    \n",
    "    ratio = counter / item_num\n",
    "    \n",
    "    unique_target_list.append(user)\n",
    "    ratio_list.append(ratio)\n",
    "    "
   ]
  },
  {
   "cell_type": "code",
   "execution_count": 20,
   "metadata": {},
   "outputs": [],
   "source": [
    "df = pd.DataFrame(\n",
    "    data={\n",
    "        'user_id' : unique_target_list,\n",
    "        'ratio' : ratio_list\n",
    "    },\n",
    "    columns=['user_id', 'ratio']\n",
    ")"
   ]
  },
  {
   "cell_type": "code",
   "execution_count": 21,
   "metadata": {},
   "outputs": [],
   "source": [
    "save_patn = './user_analysis/{}/'.format(artist)\n",
    "if not os.path.exists(save_patn):\n",
    "    os.makedirs(save_patn)\n",
    "\n",
    "df.to_csv(save_patn + 'user_id-ratio.csv')"
   ]
  },
  {
   "cell_type": "markdown",
   "metadata": {},
   "source": [
    "### 指定したアーティストの曲を聴いたユーザについて<br>全てのinteractionしたアイテムを出力"
   ]
  },
  {
   "cell_type": "code",
   "execution_count": 24,
   "metadata": {},
   "outputs": [
    {
     "data": {
      "text/html": [
       "<div>\n",
       "<style scoped>\n",
       "    .dataframe tbody tr th:only-of-type {\n",
       "        vertical-align: middle;\n",
       "    }\n",
       "\n",
       "    .dataframe tbody tr th {\n",
       "        vertical-align: top;\n",
       "    }\n",
       "\n",
       "    .dataframe thead th {\n",
       "        text-align: right;\n",
       "    }\n",
       "</style>\n",
       "<table border=\"1\" class=\"dataframe\">\n",
       "  <thead>\n",
       "    <tr style=\"text-align: right;\">\n",
       "      <th></th>\n",
       "      <th>user_id</th>\n",
       "      <th>item_id</th>\n",
       "      <th>org_id</th>\n",
       "      <th>freebase_id</th>\n",
       "      <th>track_name</th>\n",
       "      <th>artist_id</th>\n",
       "      <th>artist_name</th>\n",
       "    </tr>\n",
       "  </thead>\n",
       "  <tbody>\n",
       "    <tr>\n",
       "      <th>0</th>\n",
       "      <td>0</td>\n",
       "      <td>72</td>\n",
       "      <td>16782</td>\n",
       "      <td>m.0qh8tx</td>\n",
       "      <td>Needles and Pins</td>\n",
       "      <td>362.0</td>\n",
       "      <td>Deftones</td>\n",
       "    </tr>\n",
       "    <tr>\n",
       "      <th>1</th>\n",
       "      <td>0</td>\n",
       "      <td>73</td>\n",
       "      <td>16781</td>\n",
       "      <td>m.0qh8v3</td>\n",
       "      <td>Minerva</td>\n",
       "      <td>362.0</td>\n",
       "      <td>Deftones</td>\n",
       "    </tr>\n",
       "    <tr>\n",
       "      <th>2</th>\n",
       "      <td>0</td>\n",
       "      <td>74</td>\n",
       "      <td>16780</td>\n",
       "      <td>m.0qh8vb</td>\n",
       "      <td>Good Morning Beautiful</td>\n",
       "      <td>362.0</td>\n",
       "      <td>Deftones</td>\n",
       "    </tr>\n",
       "    <tr>\n",
       "      <th>3</th>\n",
       "      <td>0</td>\n",
       "      <td>75</td>\n",
       "      <td>16779</td>\n",
       "      <td>m.0qh8vk</td>\n",
       "      <td>Deathblow</td>\n",
       "      <td>362.0</td>\n",
       "      <td>Deftones</td>\n",
       "    </tr>\n",
       "    <tr>\n",
       "      <th>4</th>\n",
       "      <td>0</td>\n",
       "      <td>76</td>\n",
       "      <td>16778</td>\n",
       "      <td>m.0w2yfq</td>\n",
       "      <td>When Girls Telephone Boys</td>\n",
       "      <td>362.0</td>\n",
       "      <td>Deftones</td>\n",
       "    </tr>\n",
       "  </tbody>\n",
       "</table>\n",
       "</div>"
      ],
      "text/plain": [
       "   user_id  item_id  org_id freebase_id                 track_name  artist_id  \\\n",
       "0        0       72   16782    m.0qh8tx           Needles and Pins      362.0   \n",
       "1        0       73   16781    m.0qh8v3                    Minerva      362.0   \n",
       "2        0       74   16780    m.0qh8vb     Good Morning Beautiful      362.0   \n",
       "3        0       75   16779    m.0qh8vk                  Deathblow      362.0   \n",
       "4        0       76   16778    m.0w2yfq  When Girls Telephone Boys      362.0   \n",
       "\n",
       "  artist_name  \n",
       "0    Deftones  \n",
       "1    Deftones  \n",
       "2    Deftones  \n",
       "3    Deftones  \n",
       "4    Deftones  "
      ]
     },
     "execution_count": 24,
     "metadata": {},
     "output_type": "execute_result"
    }
   ],
   "source": [
    "interaction_file_path = './master_table/all_interaction_data.csv'\n",
    "df = pd.read_csv(interaction_file_path)\n",
    "df = df.drop('Unnamed: 0', axis=1)\n",
    "df.head()"
   ]
  },
  {
   "cell_type": "code",
   "execution_count": 25,
   "metadata": {},
   "outputs": [],
   "source": [
    "df = df.query('user_id in {}'.format(target_user))"
   ]
  },
  {
   "cell_type": "code",
   "execution_count": 26,
   "metadata": {},
   "outputs": [
    {
     "data": {
      "text/html": [
       "<div>\n",
       "<style scoped>\n",
       "    .dataframe tbody tr th:only-of-type {\n",
       "        vertical-align: middle;\n",
       "    }\n",
       "\n",
       "    .dataframe tbody tr th {\n",
       "        vertical-align: top;\n",
       "    }\n",
       "\n",
       "    .dataframe thead th {\n",
       "        text-align: right;\n",
       "    }\n",
       "</style>\n",
       "<table border=\"1\" class=\"dataframe\">\n",
       "  <thead>\n",
       "    <tr style=\"text-align: right;\">\n",
       "      <th></th>\n",
       "      <th>user_id</th>\n",
       "      <th>item_id</th>\n",
       "      <th>org_id</th>\n",
       "      <th>freebase_id</th>\n",
       "      <th>track_name</th>\n",
       "      <th>artist_id</th>\n",
       "      <th>artist_name</th>\n",
       "    </tr>\n",
       "  </thead>\n",
       "  <tbody>\n",
       "    <tr>\n",
       "      <th>4346</th>\n",
       "      <td>30</td>\n",
       "      <td>5254</td>\n",
       "      <td>288441</td>\n",
       "      <td>m.0fs1q26</td>\n",
       "      <td>Kilojoules</td>\n",
       "      <td>19954.0</td>\n",
       "      <td>Freelance Whales</td>\n",
       "    </tr>\n",
       "    <tr>\n",
       "      <th>4347</th>\n",
       "      <td>30</td>\n",
       "      <td>5708</td>\n",
       "      <td>746008</td>\n",
       "      <td>m.0fqdyt4</td>\n",
       "      <td>The Great Estates</td>\n",
       "      <td>19954.0</td>\n",
       "      <td>Freelance Whales</td>\n",
       "    </tr>\n",
       "    <tr>\n",
       "      <th>4348</th>\n",
       "      <td>30</td>\n",
       "      <td>5248</td>\n",
       "      <td>746013</td>\n",
       "      <td>m.0fyhs9l</td>\n",
       "      <td>Location</td>\n",
       "      <td>19954.0</td>\n",
       "      <td>Freelance Whales</td>\n",
       "    </tr>\n",
       "    <tr>\n",
       "      <th>4349</th>\n",
       "      <td>30</td>\n",
       "      <td>24476</td>\n",
       "      <td>252966</td>\n",
       "      <td>m.0g0yxk0</td>\n",
       "      <td>Broken Horse</td>\n",
       "      <td>19954.0</td>\n",
       "      <td>Freelance Whales</td>\n",
       "    </tr>\n",
       "    <tr>\n",
       "      <th>4350</th>\n",
       "      <td>30</td>\n",
       "      <td>5238</td>\n",
       "      <td>347396</td>\n",
       "      <td>m.0fvqyk7</td>\n",
       "      <td>Oh, Maker</td>\n",
       "      <td>15910.0</td>\n",
       "      <td>Janelle Monáe</td>\n",
       "    </tr>\n",
       "  </tbody>\n",
       "</table>\n",
       "</div>"
      ],
      "text/plain": [
       "      user_id  item_id  org_id freebase_id         track_name  artist_id  \\\n",
       "4346       30     5254  288441   m.0fs1q26         Kilojoules    19954.0   \n",
       "4347       30     5708  746008   m.0fqdyt4  The Great Estates    19954.0   \n",
       "4348       30     5248  746013   m.0fyhs9l           Location    19954.0   \n",
       "4349       30    24476  252966   m.0g0yxk0       Broken Horse    19954.0   \n",
       "4350       30     5238  347396   m.0fvqyk7          Oh, Maker    15910.0   \n",
       "\n",
       "           artist_name  \n",
       "4346  Freelance Whales  \n",
       "4347  Freelance Whales  \n",
       "4348  Freelance Whales  \n",
       "4349  Freelance Whales  \n",
       "4350     Janelle Monáe  "
      ]
     },
     "execution_count": 26,
     "metadata": {},
     "output_type": "execute_result"
    }
   ],
   "source": [
    "df.head()"
   ]
  },
  {
   "cell_type": "code",
   "execution_count": 28,
   "metadata": {},
   "outputs": [],
   "source": [
    "df.to_csv(save_patn + 'target_user_interaction.csv', encoding='utf_8_sig')"
   ]
  }
 ],
 "metadata": {
  "kernelspec": {
   "display_name": "Python 3",
   "language": "python",
   "name": "python3"
  },
  "language_info": {
   "codemirror_mode": {
    "name": "ipython",
    "version": 3
   },
   "file_extension": ".py",
   "mimetype": "text/x-python",
   "name": "python",
   "nbconvert_exporter": "python",
   "pygments_lexer": "ipython3",
   "version": "3.6.6"
  }
 },
 "nbformat": 4,
 "nbformat_minor": 2
}
