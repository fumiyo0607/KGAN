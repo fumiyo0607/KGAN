{
 "cells": [
  {
   "cell_type": "markdown",
   "metadata": {},
   "source": [
    "### import required module"
   ]
  },
  {
   "cell_type": "code",
   "execution_count": null,
   "metadata": {},
   "outputs": [],
   "source": [
    "import os\n",
    "from collections import defaultdict\n",
    "import numpy as np\n",
    "import pandas as pd\n",
    "import pickle\n",
    "import matplotlib.pyplot as plt\n",
    "import scipy.sparse as sp\n",
    "from tqdm import tqdm"
   ]
  },
  {
   "cell_type": "markdown",
   "metadata": {},
   "source": [
    "### 予測結果をロード"
   ]
  },
  {
   "cell_type": "code",
   "execution_count": null,
   "metadata": {},
   "outputs": [],
   "source": [
    "saved_path = './result_1114/'\n",
    "file_name = 'each_user_ret_epoch=19.pickle'"
   ]
  },
  {
   "cell_type": "code",
   "execution_count": null,
   "metadata": {},
   "outputs": [],
   "source": [
    "with open (saved_path + file_name, 'rb') as f:\n",
    "    result = pickle.load(f)"
   ]
  },
  {
   "cell_type": "code",
   "execution_count": null,
   "metadata": {},
   "outputs": [],
   "source": [
    "user_rec_items = defaultdict()\n",
    "\n",
    "for user, ret in result.items():\n",
    "    items = dict(ret['top_N_items'])\n",
    "    items = items.keys()\n",
    "    \n",
    "    user_rec_items[user]  = list(items)"
   ]
  },
  {
   "cell_type": "code",
   "execution_count": null,
   "metadata": {},
   "outputs": [],
   "source": [
    "users =  user_rec_items.keys()\n",
    "USER_NUM = len(users)\n",
    "print('user_num:{}'.format(USER_NUM))"
   ]
  },
  {
   "cell_type": "markdown",
   "metadata": {},
   "source": [
    "### 正規化済みの Attention Score のロード"
   ]
  },
  {
   "cell_type": "code",
   "execution_count": null,
   "metadata": {},
   "outputs": [],
   "source": [
    "saved_path = './result_1114/'\n",
    "file_name = 'attention_score_epoch=19.pickle'\n",
    "\n",
    "with open (saved_path + file_name, 'rb') as f:\n",
    "    attention_score = pickle.load(f)"
   ]
  },
  {
   "cell_type": "code",
   "execution_count": null,
   "metadata": {},
   "outputs": [],
   "source": [
    "attention_score.shape"
   ]
  },
  {
   "cell_type": "code",
   "execution_count": null,
   "metadata": {
    "scrolled": true
   },
   "outputs": [],
   "source": [
    "# attention_score[e_h, e_t] として Attention Score にアクセスできる\n",
    "attention_score = sp.csr_matrix(attention_score)"
   ]
  },
  {
   "cell_type": "markdown",
   "metadata": {},
   "source": [
    "### Knowledge Graph のデータをロードする"
   ]
  },
  {
   "cell_type": "code",
   "execution_count": null,
   "metadata": {},
   "outputs": [],
   "source": [
    "saved_path = '../Data/last-fm/'\n",
    "file_name = 'kg_final.txt'"
   ]
  },
  {
   "cell_type": "code",
   "execution_count": null,
   "metadata": {},
   "outputs": [],
   "source": [
    "kg_df = pd.read_csv(saved_path + file_name, sep=' ', header=None, names=('e_h','r','e_t'))\n",
    "kg_df = kg_df.drop_duplicates()\n",
    "kg_df.head()"
   ]
  },
  {
   "cell_type": "markdown",
   "metadata": {},
   "source": [
    "### 学習データのロード"
   ]
  },
  {
   "cell_type": "code",
   "execution_count": null,
   "metadata": {},
   "outputs": [],
   "source": [
    "saved_path = '../Data/last-fm/'\n",
    "file_name  = 'train.txt'"
   ]
  },
  {
   "cell_type": "code",
   "execution_count": null,
   "metadata": {},
   "outputs": [],
   "source": [
    "all_data = defaultdict(list)\n",
    "f = open(saved_path+file_name)\n",
    "line = f.readline()\n",
    "\n",
    "while line :\n",
    "\n",
    "    data = line.strip()\n",
    "    data_list = data.split()\n",
    "\n",
    "    user = data_list[0]\n",
    "    items = data_list[1:]\n",
    "    all_data[user] = items\n",
    "    \n",
    "    line = f.readline()\n",
    "    \n",
    "f.close()"
   ]
  },
  {
   "cell_type": "markdown",
   "metadata": {},
   "source": [
    "###  [推薦アイテム→entity→インタラクションのあったアイテム] のパスを特定する"
   ]
  },
  {
   "cell_type": "code",
   "execution_count": null,
   "metadata": {},
   "outputs": [],
   "source": [
    "saved_path = '../Analysis/users/'\n",
    "file_name = 'worst_100_users.pickle'\n",
    "\n",
    "with open (saved_path + file_name, 'rb') as f:\n",
    "    worst_100_users = pickle.load(f)"
   ]
  },
  {
   "cell_type": "code",
   "execution_count": null,
   "metadata": {},
   "outputs": [],
   "source": [
    "saved_path = '../Analysis/users/'\n",
    "file_name = 'top_100_users.pickle'\n",
    "\n",
    "with open (saved_path + file_name, 'rb') as f:\n",
    "    top_100_users = pickle.load(f)"
   ]
  },
  {
   "cell_type": "code",
   "execution_count": null,
   "metadata": {},
   "outputs": [],
   "source": [
    "def get_entity_to_entity_attention_score(e_h, e_t):\n",
    "\n",
    "    e_h_idx = e_h + USER_NUM\n",
    "    e_t_idx = e_t + USER_NUM\n",
    "    att = attention_score[e_h_idx, e_t_idx]\n",
    "\n",
    "    return att\n",
    "\n",
    "def get_user_to_item_attention_score(user_id, item_id):\n",
    "\n",
    "    e_h_idx = user_id\n",
    "    e_t_idx = item_id + USER_NUM\n",
    "    att = attention_score[e_h_idx, e_t_idx]\n",
    "\n",
    "    return att"
   ]
  },
  {
   "cell_type": "code",
   "execution_count": null,
   "metadata": {
    "scrolled": true
   },
   "outputs": [],
   "source": [
    "rec_item_path = defaultdict(dict)\n",
    "\n",
    "for user in tqdm(users):\n",
    "\n",
    "    rec_item_list = user_rec_items[user]\n",
    "    interacted_items = list(dict.fromkeys(all_data[str(user)]))\n",
    "\n",
    "    for rec_item_id in rec_item_list:\n",
    "\n",
    "        rec_item_entity_relation_df = kg_df[kg_df['e_h'] == rec_item_id]\n",
    "\n",
    "        entity_list = list(rec_item_entity_relation_df['e_t'])\n",
    "\n",
    "        for entity_id in entity_list:\n",
    "\n",
    "            target_rec_item_entity_relation_df = rec_item_entity_relation_df[rec_item_entity_relation_df['e_t']==entity_id]\n",
    "    \n",
    "            relation_list    = list(target_rec_item_entity_relation_df['r'])\n",
    "\n",
    "            for entity_to_rec_item_r in relation_list:\n",
    "\n",
    "                # attention score : entity to recommended item\n",
    "                entity_to_rec_item_att = get_entity_to_entity_attention_score(entity_id, rec_item_id)\n",
    "\n",
    "                item_entity_relation_df = kg_df[kg_df['e_t'] == entity_id]\n",
    "                head_items = list(item_entity_relation_df['e_h'])\n",
    "\n",
    "                interacted_item_entity_relation_df = item_entity_relation_df.query('e_h in {}'.format(interacted_items))\n",
    "\n",
    "                if len(interacted_item_entity_relation_df) > 0:\n",
    "\n",
    "                    e_h_list      = list(interacted_item_entity_relation_df['e_h'])\n",
    "                    e_t_list      = list(interacted_item_entity_relation_df['e_t'])\n",
    "                    relation_list = list(interacted_item_entity_relation_df['r'])\n",
    "\n",
    "                    for e_h, e_t, r in zip(e_h_list, e_t_list, relation_list):\n",
    "                        \n",
    "                        item_id          = e_h  # interacted item\n",
    "                        item_to_entity_r = r    # relation between interacted item and entity\n",
    "\n",
    "                        # consider item to entity to rec_item path\n",
    "                        if item_to_entity_r == entity_to_rec_item_r:\n",
    "                            \n",
    "                            # attention score : interacted item to entity\n",
    "                            item_to_entity_att = get_entity_to_entity_attention_score(item_id, entity_id)\n",
    "                    \n",
    "                            # attention score : user to interacted item\n",
    "                            user_to_item_att = get_user_to_item_attention_score(user, item_id)\n",
    "\n",
    "                            total_att_score = user_to_item_att + item_to_entity_att + entity_to_rec_item_att\n",
    "\n",
    "                            if not rec_item_id in rec_item_path[user] or ( total_att_score > max_att) :\n",
    "\n",
    "                                max_att = total_att_score \n",
    "\n",
    "                                rec_item_path[user][rec_item_id] =  {\n",
    "\n",
    "                                                        'total_att_score'    : total_att_score,\n",
    "                                                        'relation'           : item_to_entity_r,\n",
    "                                                        'item_id'            : item_id, \n",
    "                                                        'entity_id'          : entity_id, \n",
    "                                                        'rec_item_id'        : rec_item_id,\n",
    "                                                        'user_to_item'       : user_to_item_att,\n",
    "                                                        'item_to_entity'     : item_to_entity_att,\n",
    "                                                        'entity_to_rec_item' : entity_to_rec_item_att\n",
    "                                                    }\n",
    "                            "
   ]
  },
  {
   "cell_type": "code",
   "execution_count": null,
   "metadata": {},
   "outputs": [],
   "source": [
    "save_path = './attention_path/'\n",
    "file_name = 'all_users.pickle'\n",
    "\n",
    "if not os.path.exists(save_path):\n",
    "    os.makedirs(save_path)\n",
    "\n",
    "with open(save_path + file_name, mode='wb') as f:\n",
    "    pickle.dump(rec_item_path, f)"
   ]
  }
 ],
 "metadata": {
  "kernelspec": {
   "display_name": "kgat",
   "language": "python",
   "name": "kgat"
  },
  "language_info": {
   "codemirror_mode": {
    "name": "ipython",
    "version": 3
   },
   "file_extension": ".py",
   "mimetype": "text/x-python",
   "name": "python",
   "nbconvert_exporter": "python",
   "pygments_lexer": "ipython3",
   "version": "3.6.6"
  }
 },
 "nbformat": 4,
 "nbformat_minor": 2
}
