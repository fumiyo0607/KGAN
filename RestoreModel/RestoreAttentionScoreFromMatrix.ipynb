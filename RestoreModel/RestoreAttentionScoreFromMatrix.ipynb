{
 "cells": [
  {
   "cell_type": "markdown",
   "metadata": {},
   "source": [
    "### import required module"
   ]
  },
  {
   "cell_type": "code",
   "execution_count": 26,
   "metadata": {},
   "outputs": [],
   "source": [
    "import tensorflow as tf\n",
    "from tensorflow.contrib.tensorboard.plugins import projector\n",
    "import os\n",
    "from collections import defaultdict\n",
    "import numpy as np\n",
    "import pandas as pd\n",
    "import pickle\n",
    "import matplotlib.pyplot as plt\n",
    "import scipy.sparse as sp\n",
    "from tqdm import tqdm"
   ]
  },
  {
   "cell_type": "markdown",
   "metadata": {},
   "source": [
    "### モデルを復元"
   ]
  },
  {
   "cell_type": "code",
   "execution_count": 2,
   "metadata": {},
   "outputs": [],
   "source": [
    "# model_file = 'model'\n",
    "# meta_file_name = 'weights-26.meta'\n",
    "model_file = 'model_last-fm_epoch=300'\n",
    "meta_file_name = 'weights-299.meta'"
   ]
  },
  {
   "cell_type": "code",
   "execution_count": 3,
   "metadata": {},
   "outputs": [
    {
     "name": "stdout",
     "output_type": "stream",
     "text": [
      "INFO:tensorflow:Restoring parameters from ./model_last-fm_epoch=300/weights-299\n"
     ]
    }
   ],
   "source": [
    "sess = tf.Session()\n",
    "saver = tf.train.import_meta_graph('./{}/{}'.format(model_file, meta_file_name))\n",
    "\n",
    "# モデルの復元\n",
    "saver.restore(sess,tf.train.latest_checkpoint('./' + model_file + '/'))\n",
    "# グラフを復元\n",
    "graph = tf.get_default_graph()"
   ]
  },
  {
   "cell_type": "code",
   "execution_count": 5,
   "metadata": {},
   "outputs": [],
   "source": [
    "user_embed = graph.get_tensor_by_name(\"user_embed:0\")\n",
    "entity_embed = graph.get_tensor_by_name(\"entity_embed:0\")\n",
    "relation_embed = graph.get_tensor_by_name(\"relation_embed:0\")"
   ]
  },
  {
   "cell_type": "markdown",
   "metadata": {},
   "source": [
    "### 予測結果をロード"
   ]
  },
  {
   "cell_type": "code",
   "execution_count": 4,
   "metadata": {},
   "outputs": [],
   "source": [
    "saved_path = './result_1114/'\n",
    "file_name = 'each_user_ret_epoch=19.pickle'"
   ]
  },
  {
   "cell_type": "code",
   "execution_count": 5,
   "metadata": {},
   "outputs": [
    {
     "name": "stdout",
     "output_type": "stream",
     "text": [
      "{'user_id': 0, 'recall': array([0.08510638, 0.12765957, 0.12765957, 0.14893617, 0.17021277]), 'precision': array([0.2   , 0.15  , 0.1   , 0.0875, 0.08  ]), 'ndcg': array([0.30618864, 0.41385325, 0.41385325, 0.45512116, 0.49408425]), 'hit_ratio': array([1., 1., 1., 1., 1.]), 'auc': 0.0, 'top_N_items': [(1085, 12.173683), (10778, 11.681754), (23493, 11.466055), (8523, 11.296857), (11184, 11.179999), (11211, 11.060519), (2237, 11.028409), (19439, 10.986417), (9491, 10.648063), (10936, 10.647737), (14037, 10.647504), (10874, 10.485147), (9454, 10.439081), (9492, 10.429654), (8524, 10.411466), (23496, 10.3966), (8422, 10.33805), (7140, 10.331901), (9493, 10.330873), (7536, 10.172565), (2719, 10.006644), (9871, 9.955256), (10799, 9.801346), (9726, 9.771114), (2718, 9.73137), (7537, 9.72799), (2717, 9.723579), (23564, 9.722545), (13996, 9.712077), (8348, 9.70301), (2801, 9.643488), (23466, 9.505796), (2657, 9.474501), (6105, 9.37311), (8353, 9.3293705), (7931, 9.2671175), (12539, 9.260599), (23587, 9.24691), (2714, 9.192722), (14038, 9.1407), (2720, 9.1273985), (4523, 9.087328), (27574, 9.06466), (13162, 9.010456), (7191, 8.991204), (7344, 8.980796), (8347, 8.971851), (2814, 8.971309), (12605, 8.88002), (6900, 8.876962), (7345, 8.851963), (8345, 8.834418), (7351, 8.831641), (24803, 8.803093), (7357, 8.796472), (6898, 8.785023), (6879, 8.757697), (24218, 8.751643), (1731, 8.722035), (2715, 8.692156), (4525, 8.642456), (8335, 8.642414), (8333, 8.637946), (30810, 8.629134), (7354, 8.609978), (18445, 8.595686), (7170, 8.563149), (17727, 8.553166), (15300, 8.53317), (7341, 8.525404), (8254, 8.513765), (24805, 8.487932), (7166, 8.481636), (6899, 8.480959), (4524, 8.480454), (24810, 8.477313), (7168, 8.4629545), (8336, 8.419797), (13313, 8.41177), (8290, 8.408035), (4796, 8.399474), (7169, 8.392213), (2055, 8.387414), (2802, 8.382989), (7165, 8.377257), (4429, 8.368228), (10856, 8.36543), (29513, 8.358876), (9725, 8.317336), (6897, 8.3109255), (18583, 8.299593), (9418, 8.2915535), (7172, 8.257821), (24801, 8.251023), (20751, 8.241675), (24807, 8.235697), (17827, 8.226583), (17903, 8.209077), (11004, 8.207709), (2145, 8.199436)]}\n"
     ]
    }
   ],
   "source": [
    "with open (saved_path + file_name, 'rb') as f:\n",
    "    result = pickle.load(f)\n",
    "\n",
    "print(result[0])"
   ]
  },
  {
   "cell_type": "code",
   "execution_count": 6,
   "metadata": {},
   "outputs": [],
   "source": [
    "user_rec_items = defaultdict()\n",
    "\n",
    "for user, ret in result.items():\n",
    "    items = dict(ret['top_N_items'])\n",
    "    items = items.keys()\n",
    "    \n",
    "    user_rec_items[user]  = list(items)"
   ]
  },
  {
   "cell_type": "code",
   "execution_count": 7,
   "metadata": {},
   "outputs": [
    {
     "data": {
      "text/plain": [
       "23566"
      ]
     },
     "execution_count": 7,
     "metadata": {},
     "output_type": "execute_result"
    }
   ],
   "source": [
    "users =  user_rec_items.keys()\n",
    "len(users)"
   ]
  },
  {
   "cell_type": "markdown",
   "metadata": {},
   "source": [
    "### 正規化済みの Attention Score のロード"
   ]
  },
  {
   "cell_type": "code",
   "execution_count": 8,
   "metadata": {},
   "outputs": [],
   "source": [
    "saved_path = './result_1114/'\n",
    "file_name = 'attention_score_epoch=19.pickle'\n",
    "\n",
    "with open (saved_path + file_name, 'rb') as f:\n",
    "    attention_score = pickle.load(f)"
   ]
  },
  {
   "cell_type": "code",
   "execution_count": 9,
   "metadata": {
    "scrolled": true
   },
   "outputs": [],
   "source": [
    "# attention_score[e_h, e_t] として Attention Score にアクセスできる\n",
    "attention_score = sp.csr_matrix(attention_score)"
   ]
  },
  {
   "cell_type": "markdown",
   "metadata": {},
   "source": [
    "### Knowledge Graph のデータをロードする"
   ]
  },
  {
   "cell_type": "code",
   "execution_count": 10,
   "metadata": {},
   "outputs": [],
   "source": [
    "saved_path = '../Data/last-fm/'\n",
    "file_name = 'kg_final.txt'"
   ]
  },
  {
   "cell_type": "code",
   "execution_count": 11,
   "metadata": {},
   "outputs": [
    {
     "data": {
      "text/html": [
       "<div>\n",
       "<style scoped>\n",
       "    .dataframe tbody tr th:only-of-type {\n",
       "        vertical-align: middle;\n",
       "    }\n",
       "\n",
       "    .dataframe tbody tr th {\n",
       "        vertical-align: top;\n",
       "    }\n",
       "\n",
       "    .dataframe thead th {\n",
       "        text-align: right;\n",
       "    }\n",
       "</style>\n",
       "<table border=\"1\" class=\"dataframe\">\n",
       "  <thead>\n",
       "    <tr style=\"text-align: right;\">\n",
       "      <th></th>\n",
       "      <th>e_h</th>\n",
       "      <th>r</th>\n",
       "      <th>e_t</th>\n",
       "    </tr>\n",
       "  </thead>\n",
       "  <tbody>\n",
       "    <tr>\n",
       "      <th>0</th>\n",
       "      <td>12700</td>\n",
       "      <td>0</td>\n",
       "      <td>48123</td>\n",
       "    </tr>\n",
       "    <tr>\n",
       "      <th>1</th>\n",
       "      <td>18104</td>\n",
       "      <td>0</td>\n",
       "      <td>48123</td>\n",
       "    </tr>\n",
       "    <tr>\n",
       "      <th>2</th>\n",
       "      <td>25838</td>\n",
       "      <td>1</td>\n",
       "      <td>48124</td>\n",
       "    </tr>\n",
       "    <tr>\n",
       "      <th>3</th>\n",
       "      <td>41691</td>\n",
       "      <td>2</td>\n",
       "      <td>48125</td>\n",
       "    </tr>\n",
       "    <tr>\n",
       "      <th>4</th>\n",
       "      <td>9746</td>\n",
       "      <td>1</td>\n",
       "      <td>48126</td>\n",
       "    </tr>\n",
       "  </tbody>\n",
       "</table>\n",
       "</div>"
      ],
      "text/plain": [
       "     e_h  r    e_t\n",
       "0  12700  0  48123\n",
       "1  18104  0  48123\n",
       "2  25838  1  48124\n",
       "3  41691  2  48125\n",
       "4   9746  1  48126"
      ]
     },
     "execution_count": 11,
     "metadata": {},
     "output_type": "execute_result"
    }
   ],
   "source": [
    "kg_df = pd.read_csv(saved_path + file_name, sep=' ', header=None, names=('e_h','r','e_t'))\n",
    "kg_df.head()"
   ]
  },
  {
   "cell_type": "markdown",
   "metadata": {},
   "source": [
    "### Knowledge Graph でのAttention Score を算出する"
   ]
  },
  {
   "cell_type": "code",
   "execution_count": 12,
   "metadata": {},
   "outputs": [],
   "source": [
    "e_h_list = list(kg_df['e_h'])\n",
    "e_t_list = list(kg_df['e_t'])\n",
    "r_list = list(kg_df['r'])\n",
    "attention_score_list = []"
   ]
  },
  {
   "cell_type": "code",
   "execution_count": 13,
   "metadata": {},
   "outputs": [],
   "source": [
    "for e_h, e_t in zip(e_h_list, e_t_list):\n",
    "    \n",
    "    e_h_idx = e_h + len(users)\n",
    "    e_t_idx = e_t + len(users)\n",
    "    \n",
    "    att = attention_score[e_h_idx, e_t_idx]\n",
    "    attention_score_list.append(att)"
   ]
  },
  {
   "cell_type": "code",
   "execution_count": 14,
   "metadata": {},
   "outputs": [],
   "source": [
    "kg_att_df = pd.DataFrame(\n",
    "    data = {\n",
    "        'e_h' : e_h_list,\n",
    "        'r' : r_list,\n",
    "        'e_t' : e_h_list,\n",
    "        'attention_score' : attention_score_list\n",
    "        \n",
    "    },\n",
    "    columns=['e_h', 'r', 'e_t', 'attention_score']\n",
    ")"
   ]
  },
  {
   "cell_type": "code",
   "execution_count": 15,
   "metadata": {},
   "outputs": [
    {
     "data": {
      "text/html": [
       "<div>\n",
       "<style scoped>\n",
       "    .dataframe tbody tr th:only-of-type {\n",
       "        vertical-align: middle;\n",
       "    }\n",
       "\n",
       "    .dataframe tbody tr th {\n",
       "        vertical-align: top;\n",
       "    }\n",
       "\n",
       "    .dataframe thead th {\n",
       "        text-align: right;\n",
       "    }\n",
       "</style>\n",
       "<table border=\"1\" class=\"dataframe\">\n",
       "  <thead>\n",
       "    <tr style=\"text-align: right;\">\n",
       "      <th></th>\n",
       "      <th>e_h</th>\n",
       "      <th>r</th>\n",
       "      <th>e_t</th>\n",
       "      <th>attention_score</th>\n",
       "    </tr>\n",
       "  </thead>\n",
       "  <tbody>\n",
       "    <tr>\n",
       "      <th>0</th>\n",
       "      <td>12700</td>\n",
       "      <td>0</td>\n",
       "      <td>12700</td>\n",
       "      <td>0.014034</td>\n",
       "    </tr>\n",
       "    <tr>\n",
       "      <th>1</th>\n",
       "      <td>18104</td>\n",
       "      <td>0</td>\n",
       "      <td>18104</td>\n",
       "      <td>0.027095</td>\n",
       "    </tr>\n",
       "    <tr>\n",
       "      <th>2</th>\n",
       "      <td>25838</td>\n",
       "      <td>1</td>\n",
       "      <td>25838</td>\n",
       "      <td>0.035783</td>\n",
       "    </tr>\n",
       "    <tr>\n",
       "      <th>3</th>\n",
       "      <td>41691</td>\n",
       "      <td>2</td>\n",
       "      <td>41691</td>\n",
       "      <td>0.079258</td>\n",
       "    </tr>\n",
       "    <tr>\n",
       "      <th>4</th>\n",
       "      <td>9746</td>\n",
       "      <td>1</td>\n",
       "      <td>9746</td>\n",
       "      <td>0.032012</td>\n",
       "    </tr>\n",
       "  </tbody>\n",
       "</table>\n",
       "</div>"
      ],
      "text/plain": [
       "     e_h  r    e_t  attention_score\n",
       "0  12700  0  12700         0.014034\n",
       "1  18104  0  18104         0.027095\n",
       "2  25838  1  25838         0.035783\n",
       "3  41691  2  41691         0.079258\n",
       "4   9746  1   9746         0.032012"
      ]
     },
     "execution_count": 15,
     "metadata": {},
     "output_type": "execute_result"
    }
   ],
   "source": [
    "kg_att_df.head()"
   ]
  },
  {
   "cell_type": "code",
   "execution_count": 18,
   "metadata": {},
   "outputs": [],
   "source": [
    "save_path = './result_1114/'\n",
    "file_name = 'attention_score_entity-entity.csv'\n",
    "\n",
    "kg_att_df.to_csv(save_path+file_name)"
   ]
  },
  {
   "cell_type": "markdown",
   "metadata": {},
   "source": [
    "### 学習データのロード"
   ]
  },
  {
   "cell_type": "code",
   "execution_count": 19,
   "metadata": {},
   "outputs": [],
   "source": [
    "saved_path = '../Data/last-fm/'\n",
    "file_name  = 'train.txt'"
   ]
  },
  {
   "cell_type": "code",
   "execution_count": 20,
   "metadata": {},
   "outputs": [],
   "source": [
    "all_data = defaultdict(list)\n",
    "f = open(saved_path+file_name)\n",
    "line = f.readline()\n",
    "\n",
    "while line :\n",
    "\n",
    "    data = line.strip()\n",
    "    data_list = data.split()\n",
    "\n",
    "    user = data_list[0]\n",
    "    items = data_list[1:]\n",
    "    all_data[user] = items\n",
    "    \n",
    "    line = f.readline()\n",
    "    \n",
    "f.close()"
   ]
  },
  {
   "cell_type": "code",
   "execution_count": 21,
   "metadata": {},
   "outputs": [],
   "source": [
    "user_list = []\n",
    "item_list = []\n",
    "\n",
    "for user, items in all_data.items():\n",
    "    \n",
    "    for item in items:\n",
    "        user_list.append(user)\n",
    "        item_list.append(item)"
   ]
  },
  {
   "cell_type": "code",
   "execution_count": 22,
   "metadata": {},
   "outputs": [],
   "source": [
    "data_df = pd.DataFrame(\n",
    "    data = {\n",
    "        'user_id' : user_list,\n",
    "        'item_id' : item_list\n",
    "    },\n",
    "    columns=['user_id', 'item_id']\n",
    ")"
   ]
  },
  {
   "cell_type": "code",
   "execution_count": 23,
   "metadata": {},
   "outputs": [
    {
     "data": {
      "text/html": [
       "<div>\n",
       "<style scoped>\n",
       "    .dataframe tbody tr th:only-of-type {\n",
       "        vertical-align: middle;\n",
       "    }\n",
       "\n",
       "    .dataframe tbody tr th {\n",
       "        vertical-align: top;\n",
       "    }\n",
       "\n",
       "    .dataframe thead th {\n",
       "        text-align: right;\n",
       "    }\n",
       "</style>\n",
       "<table border=\"1\" class=\"dataframe\">\n",
       "  <thead>\n",
       "    <tr style=\"text-align: right;\">\n",
       "      <th></th>\n",
       "      <th>user_id</th>\n",
       "      <th>item_id</th>\n",
       "    </tr>\n",
       "  </thead>\n",
       "  <tbody>\n",
       "    <tr>\n",
       "      <th>0</th>\n",
       "      <td>0</td>\n",
       "      <td>0</td>\n",
       "    </tr>\n",
       "    <tr>\n",
       "      <th>1</th>\n",
       "      <td>0</td>\n",
       "      <td>1</td>\n",
       "    </tr>\n",
       "    <tr>\n",
       "      <th>2</th>\n",
       "      <td>0</td>\n",
       "      <td>2</td>\n",
       "    </tr>\n",
       "    <tr>\n",
       "      <th>3</th>\n",
       "      <td>0</td>\n",
       "      <td>2</td>\n",
       "    </tr>\n",
       "    <tr>\n",
       "      <th>4</th>\n",
       "      <td>0</td>\n",
       "      <td>3</td>\n",
       "    </tr>\n",
       "  </tbody>\n",
       "</table>\n",
       "</div>"
      ],
      "text/plain": [
       "  user_id item_id\n",
       "0       0       0\n",
       "1       0       1\n",
       "2       0       2\n",
       "3       0       2\n",
       "4       0       3"
      ]
     },
     "execution_count": 23,
     "metadata": {},
     "output_type": "execute_result"
    }
   ],
   "source": [
    "data_df.head()"
   ]
  },
  {
   "cell_type": "markdown",
   "metadata": {},
   "source": [
    "### 実際にinteractionのあったアイテムとのAttention Score を算出する"
   ]
  },
  {
   "cell_type": "code",
   "execution_count": 25,
   "metadata": {},
   "outputs": [],
   "source": [
    "user_id_list = list(data_df['user_id'])\n",
    "item_id_list = list(data_df['item_id'])\n",
    "attention_score_list = []"
   ]
  },
  {
   "cell_type": "code",
   "execution_count": 28,
   "metadata": {},
   "outputs": [
    {
     "name": "stderr",
     "output_type": "stream",
     "text": [
      "100%|█████████████████████████████████████████████████████████████████████| 2418427/2418427 [01:51<00:00, 21605.03it/s]\n"
     ]
    }
   ],
   "source": [
    "for u_id, i_id in zip(tqdm(user_id_list), item_id_list):\n",
    "    \n",
    "    e_h_idx = int(u_id)\n",
    "    e_t_idx = int(i_id) + len(users)\n",
    "    \n",
    "    att = attention_score[e_h_idx, e_t_idx]\n",
    "    attention_score_list.append(att)"
   ]
  },
  {
   "cell_type": "code",
   "execution_count": 29,
   "metadata": {},
   "outputs": [],
   "source": [
    "user_item_attention_df = pd.DataFrame(\n",
    "    data={\n",
    "        'user_id' : user_id_list,\n",
    "        'item_id' : item_id_list,\n",
    "        'attention_score' : attention_score_list\n",
    "    },\n",
    "    columns=['user_id', 'item_id', 'attention_score']\n",
    ")"
   ]
  },
  {
   "cell_type": "code",
   "execution_count": 30,
   "metadata": {},
   "outputs": [
    {
     "data": {
      "text/html": [
       "<div>\n",
       "<style scoped>\n",
       "    .dataframe tbody tr th:only-of-type {\n",
       "        vertical-align: middle;\n",
       "    }\n",
       "\n",
       "    .dataframe tbody tr th {\n",
       "        vertical-align: top;\n",
       "    }\n",
       "\n",
       "    .dataframe thead th {\n",
       "        text-align: right;\n",
       "    }\n",
       "</style>\n",
       "<table border=\"1\" class=\"dataframe\">\n",
       "  <thead>\n",
       "    <tr style=\"text-align: right;\">\n",
       "      <th></th>\n",
       "      <th>user_id</th>\n",
       "      <th>item_id</th>\n",
       "      <th>attention_score</th>\n",
       "    </tr>\n",
       "  </thead>\n",
       "  <tbody>\n",
       "    <tr>\n",
       "      <th>0</th>\n",
       "      <td>0</td>\n",
       "      <td>0</td>\n",
       "      <td>0.007703</td>\n",
       "    </tr>\n",
       "    <tr>\n",
       "      <th>1</th>\n",
       "      <td>0</td>\n",
       "      <td>1</td>\n",
       "      <td>0.007330</td>\n",
       "    </tr>\n",
       "    <tr>\n",
       "      <th>2</th>\n",
       "      <td>0</td>\n",
       "      <td>2</td>\n",
       "      <td>0.010621</td>\n",
       "    </tr>\n",
       "    <tr>\n",
       "      <th>3</th>\n",
       "      <td>0</td>\n",
       "      <td>2</td>\n",
       "      <td>0.010621</td>\n",
       "    </tr>\n",
       "    <tr>\n",
       "      <th>4</th>\n",
       "      <td>0</td>\n",
       "      <td>3</td>\n",
       "      <td>0.009094</td>\n",
       "    </tr>\n",
       "  </tbody>\n",
       "</table>\n",
       "</div>"
      ],
      "text/plain": [
       "  user_id item_id  attention_score\n",
       "0       0       0         0.007703\n",
       "1       0       1         0.007330\n",
       "2       0       2         0.010621\n",
       "3       0       2         0.010621\n",
       "4       0       3         0.009094"
      ]
     },
     "execution_count": 30,
     "metadata": {},
     "output_type": "execute_result"
    }
   ],
   "source": [
    "user_item_attention_df.head()"
   ]
  },
  {
   "cell_type": "code",
   "execution_count": 31,
   "metadata": {},
   "outputs": [],
   "source": [
    "save_path = './result_1114/'\n",
    "file_name = 'attention_score_user-item.csv'\n",
    "\n",
    "user_item_attention_df.to_csv(save_path+file_name)"
   ]
  }
 ],
 "metadata": {
  "kernelspec": {
   "display_name": "kgat",
   "language": "python",
   "name": "kgat"
  },
  "language_info": {
   "codemirror_mode": {
    "name": "ipython",
    "version": 3
   },
   "file_extension": ".py",
   "mimetype": "text/x-python",
   "name": "python",
   "nbconvert_exporter": "python",
   "pygments_lexer": "ipython3",
   "version": "3.6.6"
  }
 },
 "nbformat": 4,
 "nbformat_minor": 2
}
