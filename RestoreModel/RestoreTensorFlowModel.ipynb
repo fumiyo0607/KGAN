{
 "cells": [
  {
   "cell_type": "markdown",
   "metadata": {},
   "source": [
    "### import required module"
   ]
  },
  {
   "cell_type": "code",
   "execution_count": 1,
   "metadata": {},
   "outputs": [],
   "source": [
    "import tensorflow as tf\n",
    "from tensorflow.contrib.tensorboard.plugins import projector\n",
    "import os\n",
    "import numpy as np\n",
    "import pandas as pd\n",
    "import pickle\n",
    "import matplotlib.pyplot as plt\n",
    "from sklearn.manifold import TSNE"
   ]
  },
  {
   "cell_type": "markdown",
   "metadata": {},
   "source": [
    "### restore model"
   ]
  },
  {
   "cell_type": "code",
   "execution_count": 2,
   "metadata": {},
   "outputs": [],
   "source": [
    "model_file = 'malel_last-fm_epoch=300'\n",
    "meta_file_name = 'weights-299.meta'"
   ]
  },
  {
   "cell_type": "code",
   "execution_count": 3,
   "metadata": {},
   "outputs": [
    {
     "name": "stdout",
     "output_type": "stream",
     "text": [
      "INFO:tensorflow:Restoring parameters from ./malel_last-fm_epoch=300/weights-299\n"
     ]
    }
   ],
   "source": [
    "sess = tf.Session()\n",
    "saver = tf.train.import_meta_graph('./{}/{}'.format(model_file, meta_file_name))\n",
    "\n",
    "# モデルの復元\n",
    "saver.restore(sess,tf.train.latest_checkpoint('./' + model_file + '/'))\n",
    "# グラフを復元\n",
    "graph = tf.get_default_graph()"
   ]
  },
  {
   "cell_type": "code",
   "execution_count": 13,
   "metadata": {},
   "outputs": [],
   "source": [
    "user_embed = graph.get_tensor_by_name(\"user_embed:0\")\n",
    "entity_embed = graph.get_tensor_by_name(\"entity_embed:0\")\n",
    "relation_embed = graph.get_tensor_by_name(\"relation_embed:0\")"
   ]
  },
  {
   "cell_type": "code",
   "execution_count": 5,
   "metadata": {},
   "outputs": [
    {
     "name": "stdout",
     "output_type": "stream",
     "text": [
      "Tensor(\"user_embed:0\", shape=(23566, 64), dtype=float32_ref)\n"
     ]
    }
   ],
   "source": [
    "print(user_embed)"
   ]
  },
  {
   "cell_type": "code",
   "execution_count": 6,
   "metadata": {},
   "outputs": [
    {
     "name": "stdout",
     "output_type": "stream",
     "text": [
      "Tensor(\"entity_embed:0\", shape=(106389, 64), dtype=float32_ref)\n"
     ]
    }
   ],
   "source": [
    "print(entity_embed)"
   ]
  },
  {
   "cell_type": "markdown",
   "metadata": {},
   "source": [
    "### Convert tensor to numpy"
   ]
  },
  {
   "cell_type": "code",
   "execution_count": 14,
   "metadata": {},
   "outputs": [],
   "source": [
    "with tf.Session() as sess:\n",
    "    sess.run(tf.global_variables_initializer())\n",
    "\n",
    "    sess.run(user_embed)\n",
    "    user_emb_np = user_embed.eval()\n",
    "    sess.run(entity_embed)\n",
    "    entity_emb_np = entity_embed.eval()\n",
    "    sess.run(relation_embed)\n",
    "    relation_embed_np = relation_embed.eval()"
   ]
  },
  {
   "cell_type": "code",
   "execution_count": 15,
   "metadata": {},
   "outputs": [
    {
     "name": "stdout",
     "output_type": "stream",
     "text": [
      "23566\n"
     ]
    }
   ],
   "source": [
    "user_num = user_emb_np.shape[0]\n",
    "print(user_num)"
   ]
  },
  {
   "cell_type": "code",
   "execution_count": 16,
   "metadata": {},
   "outputs": [
    {
     "name": "stdout",
     "output_type": "stream",
     "text": [
      "106389\n"
     ]
    }
   ],
   "source": [
    "entity_num = entity_emb_np.shape[0]\n",
    "print(entity_num)"
   ]
  },
  {
   "cell_type": "code",
   "execution_count": 17,
   "metadata": {},
   "outputs": [
    {
     "data": {
      "text/plain": [
       "array([[-0.01637751, -0.24000359,  0.07463133, ...,  0.03310862,\n",
       "         0.06729302, -0.21663988],\n",
       "       [ 0.0717946 ,  0.09735933, -0.02233247, ...,  0.00828215,\n",
       "         0.09301859, -0.01129991],\n",
       "       [-0.01506031, -0.21739878,  0.09092385, ..., -0.0920134 ,\n",
       "         0.05565768, -0.07944979],\n",
       "       ...,\n",
       "       [-0.2099327 , -0.18551938,  0.2647716 , ..., -0.0843229 ,\n",
       "        -0.15165421, -0.00813049],\n",
       "       [-0.06483795, -0.08999462,  0.21732792, ..., -0.1369419 ,\n",
       "         0.24128333,  0.091075  ],\n",
       "       [-0.17682096, -0.0212068 ,  0.12165794, ..., -0.24185516,\n",
       "         0.20719406, -0.01169294]], dtype=float32)"
      ]
     },
     "execution_count": 17,
     "metadata": {},
     "output_type": "execute_result"
    }
   ],
   "source": [
    "relation_embed_np"
   ]
  },
  {
   "cell_type": "code",
   "execution_count": 19,
   "metadata": {},
   "outputs": [
    {
     "data": {
      "text/plain": [
       "20"
      ]
     },
     "execution_count": 19,
     "metadata": {},
     "output_type": "execute_result"
    }
   ],
   "source": [
    "relation_embed_np.shape[0]"
   ]
  },
  {
   "cell_type": "markdown",
   "metadata": {},
   "source": [
    "###  Dimensional compression"
   ]
  },
  {
   "cell_type": "code",
   "execution_count": null,
   "metadata": {},
   "outputs": [],
   "source": [
    "x = np.concatenate([user_emb_np, entity_emb_np])\n",
    "print(x.shape)"
   ]
  },
  {
   "cell_type": "code",
   "execution_count": null,
   "metadata": {},
   "outputs": [],
   "source": [
    "X_reduced = TSNE(n_components=2, random_state=0).fit_transform(x)\n",
    "print(X_reduced.shape)"
   ]
  },
  {
   "cell_type": "code",
   "execution_count": null,
   "metadata": {},
   "outputs": [],
   "source": [
    "x = X_reduced[:, 0].tolist()\n",
    "y = X_reduced[:, 1].tolist()\n",
    "\n",
    "user_index = [i for i in  range(user_num)]\n",
    "entity_index = [i for i in range(entity_num)]\n",
    "\n",
    "user = ['user']*user_num\n",
    "entity = ['entity']*entity_num\n",
    "kind = user + entity\n",
    "\n",
    "index = user_index + entity_index\n",
    "\n",
    "dim_2_df = pd.DataFrame(\n",
    "    data = {\n",
    "        'id' : index,\n",
    "        'type' : kind,\n",
    "        'x' : x,\n",
    "        'y' : y, \n",
    "    },\n",
    "    columns=['id', 'type', 'x','y']\n",
    ")"
   ]
  },
  {
   "cell_type": "code",
   "execution_count": null,
   "metadata": {},
   "outputs": [],
   "source": [
    "dim_2_df.head(10)"
   ]
  },
  {
   "cell_type": "markdown",
   "metadata": {},
   "source": [
    "### save 2dim data"
   ]
  },
  {
   "cell_type": "code",
   "execution_count": null,
   "metadata": {},
   "outputs": [],
   "source": [
    "user_2dim_df = dim_2_df.query('type == \"user\"')\n",
    "entity_2dim_df = dim_2_df.query('type == \"entity\"')"
   ]
  },
  {
   "cell_type": "code",
   "execution_count": null,
   "metadata": {},
   "outputs": [],
   "source": [
    "user_2dim_df.head()"
   ]
  },
  {
   "cell_type": "code",
   "execution_count": null,
   "metadata": {},
   "outputs": [],
   "source": [
    "entity_2dim_df.head()"
   ]
  },
  {
   "cell_type": "code",
   "execution_count": null,
   "metadata": {},
   "outputs": [],
   "source": [
    "save_path = './' + model_file + '/emb_2_dim/'\n",
    "\n",
    "if not os.path.exists(save_path):\n",
    "    os.makedirs(save_path)"
   ]
  },
  {
   "cell_type": "code",
   "execution_count": null,
   "metadata": {},
   "outputs": [],
   "source": [
    "user_2dim_df.to_csv(save_path + 'user_emb_2dim.csv')\n",
    "entity_2dim_df.to_csv(save_path + 'entity_emb_2dim.csv')"
   ]
  },
  {
   "cell_type": "markdown",
   "metadata": {},
   "source": [
    "### Visualize useing Tensor Board"
   ]
  },
  {
   "cell_type": "code",
   "execution_count": 8,
   "metadata": {},
   "outputs": [],
   "source": [
    "log_dir = './' + model_file + '/log'\n",
    "\n",
    "if not os.path.exists(log_dir): \n",
    "    os.makedirs(log_dir)"
   ]
  },
  {
   "cell_type": "code",
   "execution_count": 9,
   "metadata": {},
   "outputs": [],
   "source": [
    "# Embeddings Visualiationにラベルを追加\n",
    "summary_writer = tf.summary.FileWriter(log_dir)\n",
    "config = projector.ProjectorConfig()"
   ]
  },
  {
   "cell_type": "code",
   "execution_count": 10,
   "metadata": {},
   "outputs": [],
   "source": [
    "embedding = config.embeddings.add()"
   ]
  },
  {
   "cell_type": "code",
   "execution_count": 11,
   "metadata": {},
   "outputs": [],
   "source": [
    "embedding.tensor_name = user_embed.name"
   ]
  },
  {
   "cell_type": "code",
   "execution_count": 12,
   "metadata": {},
   "outputs": [],
   "source": [
    "projector.visualize_embeddings(summary_writer, config)"
   ]
  },
  {
   "cell_type": "code",
   "execution_count": null,
   "metadata": {},
   "outputs": [],
   "source": []
  }
 ],
 "metadata": {
  "kernelspec": {
   "display_name": "Python 3",
   "language": "python",
   "name": "python3"
  },
  "language_info": {
   "codemirror_mode": {
    "name": "ipython",
    "version": 3
   },
   "file_extension": ".py",
   "mimetype": "text/x-python",
   "name": "python",
   "nbconvert_exporter": "python",
   "pygments_lexer": "ipython3",
   "version": "3.6.6"
  }
 },
 "nbformat": 4,
 "nbformat_minor": 2
}
